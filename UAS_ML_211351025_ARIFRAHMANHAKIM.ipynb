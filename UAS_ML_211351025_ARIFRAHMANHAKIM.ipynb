{
  "cells": [
    {
      "cell_type": "markdown",
      "metadata": {
        "id": "fPRlE4C9QS4I"
      },
      "source": [
        "NIM : 211351025<br>\n",
        "NAMA : ARIF RAHMAN HAKIM<br>\n",
        "KELAS : PAGI A"
      ]
    },
    {
      "cell_type": "markdown",
      "metadata": {
        "id": "FlFcQiMCQh8s"
      },
      "source": [
        "#Import Dataset Kaggle"
      ]
    },
    {
      "cell_type": "markdown",
      "metadata": {
        "id": "fgnpV4qORJEu"
      },
      "source": [
        "#Import Library yang dibutuhkan"
      ]
    },
    {
      "cell_type": "code",
      "execution_count": 1,
      "metadata": {
        "id": "FM6fNEn3RNbs"
      },
      "outputs": [],
      "source": [
        "import pandas as pd\n",
        "import numpy as np\n",
        "import seaborn as sns\n",
        "import matplotlib.pyplot as plt\n",
        "from mlxtend.preprocessing import TransactionEncoder\n",
        "from mlxtend.frequent_patterns import association_rules, apriori\n",
        "import plotly.express as px"
      ]
    },
    {
      "cell_type": "markdown",
      "metadata": {
        "id": "XJvGpWZoReVk"
      },
      "source": [
        "#Data Discovery"
      ]
    },
    {
      "cell_type": "code",
      "execution_count": 2,
      "metadata": {
        "colab": {
          "base_uri": "https://localhost:8080/",
          "height": 365
        },
        "id": "G_xA11_OUKqJ",
        "outputId": "6775c842-c65f-4123-c1d1-855ce92bee4f"
      },
      "outputs": [
        {
          "data": {
            "text/html": [
              "<div>\n",
              "<style scoped>\n",
              "    .dataframe tbody tr th:only-of-type {\n",
              "        vertical-align: middle;\n",
              "    }\n",
              "\n",
              "    .dataframe tbody tr th {\n",
              "        vertical-align: top;\n",
              "    }\n",
              "\n",
              "    .dataframe thead th {\n",
              "        text-align: right;\n",
              "    }\n",
              "</style>\n",
              "<table border=\"1\" class=\"dataframe\">\n",
              "  <thead>\n",
              "    <tr style=\"text-align: right;\">\n",
              "      <th></th>\n",
              "      <th>Invoice</th>\n",
              "      <th>StockCode</th>\n",
              "      <th>Description</th>\n",
              "      <th>Quantity</th>\n",
              "      <th>InvoiceDate</th>\n",
              "      <th>Price</th>\n",
              "      <th>Customer ID</th>\n",
              "      <th>Country</th>\n",
              "    </tr>\n",
              "  </thead>\n",
              "  <tbody>\n",
              "    <tr>\n",
              "      <th>0</th>\n",
              "      <td>489434</td>\n",
              "      <td>85048</td>\n",
              "      <td>15CM CHRISTMAS GLASS BALL 20 LIGHTS</td>\n",
              "      <td>12</td>\n",
              "      <td>2009-12-01 07:45:00</td>\n",
              "      <td>6.95</td>\n",
              "      <td>13085.0</td>\n",
              "      <td>United Kingdom</td>\n",
              "    </tr>\n",
              "    <tr>\n",
              "      <th>1</th>\n",
              "      <td>489434</td>\n",
              "      <td>79323P</td>\n",
              "      <td>PINK CHERRY LIGHTS</td>\n",
              "      <td>12</td>\n",
              "      <td>2009-12-01 07:45:00</td>\n",
              "      <td>6.75</td>\n",
              "      <td>13085.0</td>\n",
              "      <td>United Kingdom</td>\n",
              "    </tr>\n",
              "    <tr>\n",
              "      <th>2</th>\n",
              "      <td>489434</td>\n",
              "      <td>79323W</td>\n",
              "      <td>WHITE CHERRY LIGHTS</td>\n",
              "      <td>12</td>\n",
              "      <td>2009-12-01 07:45:00</td>\n",
              "      <td>6.75</td>\n",
              "      <td>13085.0</td>\n",
              "      <td>United Kingdom</td>\n",
              "    </tr>\n",
              "    <tr>\n",
              "      <th>3</th>\n",
              "      <td>489434</td>\n",
              "      <td>22041</td>\n",
              "      <td>RECORD FRAME 7\" SINGLE SIZE</td>\n",
              "      <td>48</td>\n",
              "      <td>2009-12-01 07:45:00</td>\n",
              "      <td>2.10</td>\n",
              "      <td>13085.0</td>\n",
              "      <td>United Kingdom</td>\n",
              "    </tr>\n",
              "    <tr>\n",
              "      <th>4</th>\n",
              "      <td>489434</td>\n",
              "      <td>21232</td>\n",
              "      <td>STRAWBERRY CERAMIC TRINKET BOX</td>\n",
              "      <td>24</td>\n",
              "      <td>2009-12-01 07:45:00</td>\n",
              "      <td>1.25</td>\n",
              "      <td>13085.0</td>\n",
              "      <td>United Kingdom</td>\n",
              "    </tr>\n",
              "  </tbody>\n",
              "</table>\n",
              "</div>"
            ],
            "text/plain": [
              "  Invoice StockCode                          Description  Quantity  \\\n",
              "0  489434     85048  15CM CHRISTMAS GLASS BALL 20 LIGHTS        12   \n",
              "1  489434    79323P                   PINK CHERRY LIGHTS        12   \n",
              "2  489434    79323W                  WHITE CHERRY LIGHTS        12   \n",
              "3  489434     22041         RECORD FRAME 7\" SINGLE SIZE         48   \n",
              "4  489434     21232       STRAWBERRY CERAMIC TRINKET BOX        24   \n",
              "\n",
              "          InvoiceDate  Price  Customer ID         Country  \n",
              "0 2009-12-01 07:45:00   6.95      13085.0  United Kingdom  \n",
              "1 2009-12-01 07:45:00   6.75      13085.0  United Kingdom  \n",
              "2 2009-12-01 07:45:00   6.75      13085.0  United Kingdom  \n",
              "3 2009-12-01 07:45:00   2.10      13085.0  United Kingdom  \n",
              "4 2009-12-01 07:45:00   1.25      13085.0  United Kingdom  "
            ]
          },
          "execution_count": 2,
          "metadata": {},
          "output_type": "execute_result"
        }
      ],
      "source": [
        "data = pd.read_excel(\"online_retail_II.xlsx\")\n",
        "data.head()"
      ]
    },
    {
      "cell_type": "code",
      "execution_count": 3,
      "metadata": {
        "colab": {
          "base_uri": "https://localhost:8080/"
        },
        "id": "DkKvvqZSmSpZ",
        "outputId": "25bac1c6-0796-4eb6-8a01-a7879b6d75ad"
      },
      "outputs": [],
      "source": [
        "data['InvoiceDate'] = pd.to_datetime(data['InvoiceDate'], format=\"%d-%m-%Y %H:%M\")"
      ]
    },
    {
      "cell_type": "code",
      "execution_count": 4,
      "metadata": {
        "colab": {
          "base_uri": "https://localhost:8080/"
        },
        "id": "V1tssESy99tF",
        "outputId": "4fadb7b2-c422-45f1-8a81-dd1aac97d599"
      },
      "outputs": [
        {
          "data": {
            "text/plain": [
              "dtype('<M8[ns]')"
            ]
          },
          "execution_count": 4,
          "metadata": {},
          "output_type": "execute_result"
        }
      ],
      "source": [
        "data[\"InvoiceDate\"].dtype"
      ]
    },
    {
      "cell_type": "code",
      "execution_count": 5,
      "metadata": {
        "colab": {
          "base_uri": "https://localhost:8080/",
          "height": 365
        },
        "id": "6Hb7BrKa-KzW",
        "outputId": "4ba37ee9-cd95-4f50-ee75-54d2d0743bf8"
      },
      "outputs": [
        {
          "data": {
            "text/html": [
              "<div>\n",
              "<style scoped>\n",
              "    .dataframe tbody tr th:only-of-type {\n",
              "        vertical-align: middle;\n",
              "    }\n",
              "\n",
              "    .dataframe tbody tr th {\n",
              "        vertical-align: top;\n",
              "    }\n",
              "\n",
              "    .dataframe thead th {\n",
              "        text-align: right;\n",
              "    }\n",
              "</style>\n",
              "<table border=\"1\" class=\"dataframe\">\n",
              "  <thead>\n",
              "    <tr style=\"text-align: right;\">\n",
              "      <th></th>\n",
              "      <th>Invoice</th>\n",
              "      <th>StockCode</th>\n",
              "      <th>Description</th>\n",
              "      <th>Quantity</th>\n",
              "      <th>InvoiceDate</th>\n",
              "      <th>Price</th>\n",
              "      <th>Customer ID</th>\n",
              "      <th>Country</th>\n",
              "      <th>month</th>\n",
              "      <th>day</th>\n",
              "      <th>hour</th>\n",
              "    </tr>\n",
              "  </thead>\n",
              "  <tbody>\n",
              "    <tr>\n",
              "      <th>0</th>\n",
              "      <td>489434</td>\n",
              "      <td>85048</td>\n",
              "      <td>15CM CHRISTMAS GLASS BALL 20 LIGHTS</td>\n",
              "      <td>12</td>\n",
              "      <td>2009-12-01 07:45:00</td>\n",
              "      <td>6.95</td>\n",
              "      <td>13085.0</td>\n",
              "      <td>United Kingdom</td>\n",
              "      <td>12</td>\n",
              "      <td>1</td>\n",
              "      <td>7</td>\n",
              "    </tr>\n",
              "    <tr>\n",
              "      <th>1</th>\n",
              "      <td>489434</td>\n",
              "      <td>79323P</td>\n",
              "      <td>PINK CHERRY LIGHTS</td>\n",
              "      <td>12</td>\n",
              "      <td>2009-12-01 07:45:00</td>\n",
              "      <td>6.75</td>\n",
              "      <td>13085.0</td>\n",
              "      <td>United Kingdom</td>\n",
              "      <td>12</td>\n",
              "      <td>1</td>\n",
              "      <td>7</td>\n",
              "    </tr>\n",
              "    <tr>\n",
              "      <th>2</th>\n",
              "      <td>489434</td>\n",
              "      <td>79323W</td>\n",
              "      <td>WHITE CHERRY LIGHTS</td>\n",
              "      <td>12</td>\n",
              "      <td>2009-12-01 07:45:00</td>\n",
              "      <td>6.75</td>\n",
              "      <td>13085.0</td>\n",
              "      <td>United Kingdom</td>\n",
              "      <td>12</td>\n",
              "      <td>1</td>\n",
              "      <td>7</td>\n",
              "    </tr>\n",
              "    <tr>\n",
              "      <th>3</th>\n",
              "      <td>489434</td>\n",
              "      <td>22041</td>\n",
              "      <td>RECORD FRAME 7\" SINGLE SIZE</td>\n",
              "      <td>48</td>\n",
              "      <td>2009-12-01 07:45:00</td>\n",
              "      <td>2.10</td>\n",
              "      <td>13085.0</td>\n",
              "      <td>United Kingdom</td>\n",
              "      <td>12</td>\n",
              "      <td>1</td>\n",
              "      <td>7</td>\n",
              "    </tr>\n",
              "    <tr>\n",
              "      <th>4</th>\n",
              "      <td>489434</td>\n",
              "      <td>21232</td>\n",
              "      <td>STRAWBERRY CERAMIC TRINKET BOX</td>\n",
              "      <td>24</td>\n",
              "      <td>2009-12-01 07:45:00</td>\n",
              "      <td>1.25</td>\n",
              "      <td>13085.0</td>\n",
              "      <td>United Kingdom</td>\n",
              "      <td>12</td>\n",
              "      <td>1</td>\n",
              "      <td>7</td>\n",
              "    </tr>\n",
              "  </tbody>\n",
              "</table>\n",
              "</div>"
            ],
            "text/plain": [
              "  Invoice StockCode                          Description  Quantity  \\\n",
              "0  489434     85048  15CM CHRISTMAS GLASS BALL 20 LIGHTS        12   \n",
              "1  489434    79323P                   PINK CHERRY LIGHTS        12   \n",
              "2  489434    79323W                  WHITE CHERRY LIGHTS        12   \n",
              "3  489434     22041         RECORD FRAME 7\" SINGLE SIZE         48   \n",
              "4  489434     21232       STRAWBERRY CERAMIC TRINKET BOX        24   \n",
              "\n",
              "          InvoiceDate  Price  Customer ID         Country  month  day  hour  \n",
              "0 2009-12-01 07:45:00   6.95      13085.0  United Kingdom     12    1     7  \n",
              "1 2009-12-01 07:45:00   6.75      13085.0  United Kingdom     12    1     7  \n",
              "2 2009-12-01 07:45:00   6.75      13085.0  United Kingdom     12    1     7  \n",
              "3 2009-12-01 07:45:00   2.10      13085.0  United Kingdom     12    1     7  \n",
              "4 2009-12-01 07:45:00   1.25      13085.0  United Kingdom     12    1     7  "
            ]
          },
          "execution_count": 5,
          "metadata": {},
          "output_type": "execute_result"
        }
      ],
      "source": [
        "data[\"month\"] = data['InvoiceDate'].dt.month\n",
        "data[\"day\"] = data['InvoiceDate'].dt.weekday\n",
        "data[\"hour\"] = data['InvoiceDate'].dt.hour\n",
        "data.head()"
      ]
    },
    {
      "cell_type": "markdown",
      "metadata": {
        "id": "DcZAS82-_DRD"
      },
      "source": [
        "#EDA"
      ]
    },
    {
      "cell_type": "code",
      "execution_count": 6,
      "metadata": {
        "colab": {
          "base_uri": "https://localhost:8080/",
          "height": 625
        },
        "id": "m7QCrOMC_GRK",
        "outputId": "cabb4e87-1de2-484e-961a-27379847276b"
      },
      "outputs": [
        {
          "data": {
            "image/png": "[encoded data removed]",
            "text/plain": [
              "<Figure size 1300x500 with 1 Axes>"
            ]
          },
          "metadata": {},
          "output_type": "display_data"
        }
      ],
      "source": [
        "import seaborn as sns\n",
        "import matplotlib.pyplot as plt\n",
        "\n",
        "plt.figure(figsize=(13, 5))\n",
        "sns.set_palette(\"muted\")\n",
        "\n",
        "sns.barplot(x=data[\"Description\"].value_counts()[:10].index,\n",
        "            y=data[\"Description\"].value_counts()[:10].values)\n",
        "\n",
        "plt.xlabel(\"Produk\")\n",
        "plt.ylabel(\"Jumlah Terjual\")\n",
        "plt.xticks(rotation=45, ha=\"right\", size=13)\n",
        "plt.title('10 Produk yang Paling Laris', size=17)\n",
        "plt.show()"
      ]
    },
    {
      "cell_type": "code",
      "execution_count": 7,
      "metadata": {
        "colab": {
          "base_uri": "https://localhost:8080/",
          "height": 592
        },
        "id": "WObD24hiCYka",
        "outputId": "838fa86f-9b60-4a64-9b0a-fe9972bdd586"
      },
      "outputs": [
        {
          "data": {
            "image/png": "[encoded data removed]",
            "text/plain": [
              "<Figure size 800x500 with 1 Axes>"
            ]
          },
          "metadata": {},
          "output_type": "display_data"
        }
      ],
      "source": [
        "data['month'] = data['InvoiceDate'].dt.month_name()\n",
        "data_perbulan = data.groupby('month')['Invoice'].count()\n",
        "\n",
        "# Sorting data_perbulan agar urut sesuai bulan\n",
        "months_order = [\"January\", \"February\", \"March\", \"April\", \"May\", \"June\", \"July\", \"August\", \"September\", \"October\", \"November\", \"December\"]\n",
        "data_perbulan = data_perbulan.reindex(months_order, axis=0)\n",
        "\n",
        "plt.figure(figsize=(8, 5))\n",
        "sns.barplot(\n",
        "    x=data_perbulan.index,\n",
        "    y=data_perbulan.values,\n",
        "    color=\"#D5BBD3\"\n",
        ")\n",
        "plt.xticks(size=12, rotation=-30, ha=\"left\")\n",
        "plt.title(\"Jumlah Transaksi Tiap Bulan dari January - Desember\", size=16)\n",
        "plt.show()\n"
      ]
    },
    {
      "cell_type": "code",
      "execution_count": 8,
      "metadata": {
        "colab": {
          "base_uri": "https://localhost:8080/",
          "height": 574
        },
        "id": "yUCl9zUHKeDg",
        "outputId": "3581ba6d-a355-4cff-e9bb-1d085023e167"
      },
      "outputs": [
        {
          "data": {
            "image/png": "[encoded data removed]",
            "text/plain": [
              "<Figure size 800x500 with 1 Axes>"
            ]
          },
          "metadata": {},
          "output_type": "display_data"
        }
      ],
      "source": [
        "data['InvoiceDate'] = pd.to_datetime(data['InvoiceDate'])\n",
        "data['DayOfWeek'] = data['InvoiceDate'].dt.day_name()\n",
        "data_perday = data.groupby('DayOfWeek')['Invoice'].count()\n",
        "\n",
        "days_order = [\"Monday\", \"Tuesday\", \"Wednesday\", \"Thursday\", \"Friday\", \"Saturday\", \"Sunday\"]\n",
        "data_perday = data_perday.reindex(days_order, axis=0)\n",
        "\n",
        "\n",
        "plt.figure(figsize=(8, 5))\n",
        "sns.barplot(\n",
        "    x=days_order,\n",
        "    y=data_perday.values,\n",
        "    color=\"#BFFCC6\"\n",
        ")\n",
        "plt.xticks(size=12, rotation=-30)\n",
        "plt.title(\"Total Transaksi per Hari\", size=16)\n",
        "plt.show()\n"
      ]
    },
    {
      "cell_type": "code",
      "execution_count": 9,
      "metadata": {
        "colab": {
          "base_uri": "https://localhost:8080/",
          "height": 577
        },
        "id": "O-33gmDwNMOS",
        "outputId": "e1a033f8-8c52-4894-857b-60a7f93d7eb1"
      },
      "outputs": [
        {
          "data": {
            "image/png": "[encoded data removed]",
            "text/plain": [
              "<Figure size 1200x600 with 1 Axes>"
            ]
          },
          "metadata": {},
          "output_type": "display_data"
        }
      ],
      "source": [
        "data['InvoiceDate'] = pd.to_datetime(data['InvoiceDate'])\n",
        "data['Hour'] = data['InvoiceDate'].dt.hour\n",
        "data_perhour = data.groupby('Hour')['Invoice'].count()\n",
        "\n",
        "plt.figure(figsize=(12, 6))\n",
        "sns.barplot(\n",
        "    x=data_perhour.index,\n",
        "    y=data_perhour.values,\n",
        "    color=\"#FAD02E\"\n",
        ")\n",
        "plt.xlabel(\"Hour\")\n",
        "plt.ylabel(\"Jumlah Transaksi\")\n",
        "plt.title(\"Total Transaksi per Jam\", size=16)\n",
        "plt.show()\n"
      ]
    },
    {
      "cell_type": "code",
      "execution_count": 10,
      "metadata": {
        "colab": {
          "base_uri": "https://localhost:8080/",
          "height": 597
        },
        "id": "28jk2m2puLRl",
        "outputId": "71261b5a-38d0-46f3-b989-0d68d0f1c86a"
      },
      "outputs": [
        {
          "data": {
            "application/vnd.plotly.v1+json": {
              "config": {
                "plotlyServerURL": "https://plot.ly"
              },
              "data": [
                {
                  "domain": {
                    "x": [
                      0,
                      1
                    ],
                    "y": [
                      0,
                      1
                    ]
                  },
                  "hovertemplate": "Country=%{label}<br>Price=%{value}<extra></extra>",
                  "labels": [
                    "United Kingdom",
                    "EIRE",
                    "Norway",
                    "Germany",
                    "France",
                    "Netherlands",
                    "Hong Kong",
                    "Spain",
                    "Belgium",
                    "Sweden",
                    "Malta",
                    "Channel Islands",
                    "Switzerland",
                    "Italy",
                    "Portugal",
                    "Australia",
                    "RSA",
                    "Austria",
                    "Cyprus",
                    "United Arab Emirates"
                  ],
                  "legendgroup": "",
                  "name": "",
                  "showlegend": true,
                  "type": "pie",
                  "values": [
                    2207453.813,
                    76858.26,
                    34600.85,
                    29898.451,
                    24181.32,
                    9170.68,
                    8715.380000000001,
                    7906.02,
                    7226.75,
                    6903.09,
                    5909.58,
                    5318.25,
                    5236.19,
                    4600.07,
                    4088.3,
                    4056.32,
                    3105.75,
                    2482.8,
                    2413.88,
                    2322.64
                  ]
                }
              ],
              "layout": {
                "legend": {
                  "tracegroupgap": 0
                },
                "template": {
                  "data": {
                    "bar": [
                      {
                        "error_x": {
                          "color": "#2a3f5f"
                        },
                        "error_y": {
                          "color": "#2a3f5f"
                        },
                        "marker": {
                          "line": {
                            "color": "#E5ECF6",
                            "width": 0.5
                          },
                          "pattern": {
                            "fillmode": "overlay",
                            "size": 10,
                            "solidity": 0.2
                          }
                        },
                        "type": "bar"
                      }
                    ],
                    "barpolar": [
                      {
                        "marker": {
                          "line": {
                            "color": "#E5ECF6",
                            "width": 0.5
                          },
                          "pattern": {
                            "fillmode": "overlay",
                            "size": 10,
                            "solidity": 0.2
                          }
                        },
                        "type": "barpolar"
                      }
                    ],
                    "carpet": [
                      {
                        "aaxis": {
                          "endlinecolor": "#2a3f5f",
                          "gridcolor": "white",
                          "linecolor": "white",
                          "minorgridcolor": "white",
                          "startlinecolor": "#2a3f5f"
                        },
                        "baxis": {
                          "endlinecolor": "#2a3f5f",
                          "gridcolor": "white",
                          "linecolor": "white",
                          "minorgridcolor": "white",
                          "startlinecolor": "#2a3f5f"
                        },
                        "type": "carpet"
                      }
                    ],
                    "choropleth": [
                      {
                        "colorbar": {
                          "outlinewidth": 0,
                          "ticks": ""
                        },
                        "type": "choropleth"
                      }
                    ],
                    "contour": [
                      {
                        "colorbar": {
                          "outlinewidth": 0,
                          "ticks": ""
                        },
                        "colorscale": [
                          [
                            0,
                            "#0d0887"
                          ],
                          [
                            0.1111111111111111,
                            "#46039f"
                          ],
                          [
                            0.2222222222222222,
                            "#7201a8"
                          ],
                          [
                            0.3333333333333333,
                            "#9c179e"
                          ],
                          [
                            0.4444444444444444,
                            "#bd3786"
                          ],
                          [
                            0.5555555555555556,
                            "#d8576b"
                          ],
                          [
                            0.6666666666666666,
                            "#ed7953"
                          ],
                          [
                            0.7777777777777778,
                            "#fb9f3a"
                          ],
                          [
                            0.8888888888888888,
                            "#fdca26"
                          ],
                          [
                            1,
                            "#f0f921"
                          ]
                        ],
                        "type": "contour"
                      }
                    ],
                    "contourcarpet": [
                      {
                        "colorbar": {
                          "outlinewidth": 0,
                          "ticks": ""
                        },
                        "type": "contourcarpet"
                      }
                    ],
                    "heatmap": [
                      {
                        "colorbar": {
                          "outlinewidth": 0,
                          "ticks": ""
                        },
                        "colorscale": [
                          [
                            0,
                            "#0d0887"
                          ],
                          [
                            0.1111111111111111,
                            "#46039f"
                          ],
                          [
                            0.2222222222222222,
                            "#7201a8"
                          ],
                          [
                            0.3333333333333333,
                            "#9c179e"
                          ],
                          [
                            0.4444444444444444,
                            "#bd3786"
                          ],
                          [
                            0.5555555555555556,
                            "#d8576b"
                          ],
                          [
                            0.6666666666666666,
                            "#ed7953"
                          ],
                          [
                            0.7777777777777778,
                            "#fb9f3a"
                          ],
                          [
                            0.8888888888888888,
                            "#fdca26"
                          ],
                          [
                            1,
                            "#f0f921"
                          ]
                        ],
                        "type": "heatmap"
                      }
                    ],
                    "heatmapgl": [
                      {
                        "colorbar": {
                          "outlinewidth": 0,
                          "ticks": ""
                        },
                        "colorscale": [
                          [
                            0,
                            "#0d0887"
                          ],
                          [
                            0.1111111111111111,
                            "#46039f"
                          ],
                          [
                            0.2222222222222222,
                            "#7201a8"
                          ],
                          [
                            0.3333333333333333,
                            "#9c179e"
                          ],
                          [
                            0.4444444444444444,
                            "#bd3786"
                          ],
                          [
                            0.5555555555555556,
                            "#d8576b"
                          ],
                          [
                            0.6666666666666666,
                            "#ed7953"
                          ],
                          [
                            0.7777777777777778,
                            "#fb9f3a"
                          ],
                          [
                            0.8888888888888888,
                            "#fdca26"
                          ],
                          [
                            1,
                            "#f0f921"
                          ]
                        ],
                        "type": "heatmapgl"
                      }
                    ],
                    "histogram": [
                      {
                        "marker": {
                          "pattern": {
                            "fillmode": "overlay",
                            "size": 10,
                            "solidity": 0.2
                          }
                        },
                        "type": "histogram"
                      }
                    ],
                    "histogram2d": [
                      {
                        "colorbar": {
                          "outlinewidth": 0,
                          "ticks": ""
                        },
                        "colorscale": [
                          [
                            0,
                            "#0d0887"
                          ],
                          [
                            0.1111111111111111,
                            "#46039f"
                          ],
                          [
                            0.2222222222222222,
                            "#7201a8"
                          ],
                          [
                            0.3333333333333333,
                            "#9c179e"
                          ],
                          [
                            0.4444444444444444,
                            "#bd3786"
                          ],
                          [
                            0.5555555555555556,
                            "#d8576b"
                          ],
                          [
                            0.6666666666666666,
                            "#ed7953"
                          ],
                          [
                            0.7777777777777778,
                            "#fb9f3a"
                          ],
                          [
                            0.8888888888888888,
                            "#fdca26"
                          ],
                          [
                            1,
                            "#f0f921"
                          ]
                        ],
                        "type": "histogram2d"
                      }
                    ],
                    "histogram2dcontour": [
                      {
                        "colorbar": {
                          "outlinewidth": 0,
                          "ticks": ""
                        },
                        "colorscale": [
                          [
                            0,
                            "#0d0887"
                          ],
                          [
                            0.1111111111111111,
                            "#46039f"
                          ],
                          [
                            0.2222222222222222,
                            "#7201a8"
                          ],
                          [
                            0.3333333333333333,
                            "#9c179e"
                          ],
                          [
                            0.4444444444444444,
                            "#bd3786"
                          ],
                          [
                            0.5555555555555556,
                            "#d8576b"
                          ],
                          [
                            0.6666666666666666,
                            "#ed7953"
                          ],
                          [
                            0.7777777777777778,
                            "#fb9f3a"
                          ],
                          [
                            0.8888888888888888,
                            "#fdca26"
                          ],
                          [
                            1,
                            "#f0f921"
                          ]
                        ],
                        "type": "histogram2dcontour"
                      }
                    ],
                    "mesh3d": [
                      {
                        "colorbar": {
                          "outlinewidth": 0,
                          "ticks": ""
                        },
                        "type": "mesh3d"
                      }
                    ],
                    "parcoords": [
                      {
                        "line": {
                          "colorbar": {
                            "outlinewidth": 0,
                            "ticks": ""
                          }
                        },
                        "type": "parcoords"
                      }
                    ],
                    "pie": [
                      {
                        "automargin": true,
                        "type": "pie"
                      }
                    ],
                    "scatter": [
                      {
                        "fillpattern": {
                          "fillmode": "overlay",
                          "size": 10,
                          "solidity": 0.2
                        },
                        "type": "scatter"
                      }
                    ],
                    "scatter3d": [
                      {
                        "line": {
                          "colorbar": {
                            "outlinewidth": 0,
                            "ticks": ""
                          }
                        },
                        "marker": {
                          "colorbar": {
                            "outlinewidth": 0,
                            "ticks": ""
                          }
                        },
                        "type": "scatter3d"
                      }
                    ],
                    "scattercarpet": [
                      {
                        "marker": {
                          "colorbar": {
                            "outlinewidth": 0,
                            "ticks": ""
                          }
                        },
                        "type": "scattercarpet"
                      }
                    ],
                    "scattergeo": [
                      {
                        "marker": {
                          "colorbar": {
                            "outlinewidth": 0,
                            "ticks": ""
                          }
                        },
                        "type": "scattergeo"
                      }
                    ],
                    "scattergl": [
                      {
                        "marker": {
                          "colorbar": {
                            "outlinewidth": 0,
                            "ticks": ""
                          }
                        },
                        "type": "scattergl"
                      }
                    ],
                    "scattermapbox": [
                      {
                        "marker": {
                          "colorbar": {
                            "outlinewidth": 0,
                            "ticks": ""
                          }
                        },
                        "type": "scattermapbox"
                      }
                    ],
                    "scatterpolar": [
                      {
                        "marker": {
                          "colorbar": {
                            "outlinewidth": 0,
                            "ticks": ""
                          }
                        },
                        "type": "scatterpolar"
                      }
                    ],
                    "scatterpolargl": [
                      {
                        "marker": {
                          "colorbar": {
                            "outlinewidth": 0,
                            "ticks": ""
                          }
                        },
                        "type": "scatterpolargl"
                      }
                    ],
                    "scatterternary": [
                      {
                        "marker": {
                          "colorbar": {
                            "outlinewidth": 0,
                            "ticks": ""
                          }
                        },
                        "type": "scatterternary"
                      }
                    ],
                    "surface": [
                      {
                        "colorbar": {
                          "outlinewidth": 0,
                          "ticks": ""
                        },
                        "colorscale": [
                          [
                            0,
                            "#0d0887"
                          ],
                          [
                            0.1111111111111111,
                            "#46039f"
                          ],
                          [
                            0.2222222222222222,
                            "#7201a8"
                          ],
                          [
                            0.3333333333333333,
                            "#9c179e"
                          ],
                          [
                            0.4444444444444444,
                            "#bd3786"
                          ],
                          [
                            0.5555555555555556,
                            "#d8576b"
                          ],
                          [
                            0.6666666666666666,
                            "#ed7953"
                          ],
                          [
                            0.7777777777777778,
                            "#fb9f3a"
                          ],
                          [
                            0.8888888888888888,
                            "#fdca26"
                          ],
                          [
                            1,
                            "#f0f921"
                          ]
                        ],
                        "type": "surface"
                      }
                    ],
                    "table": [
                      {
                        "cells": {
                          "fill": {
                            "color": "#EBF0F8"
                          },
                          "line": {
                            "color": "white"
                          }
                        },
                        "header": {
                          "fill": {
                            "color": "#C8D4E3"
                          },
                          "line": {
                            "color": "white"
                          }
                        },
                        "type": "table"
                      }
                    ]
                  },
                  "layout": {
                    "annotationdefaults": {
                      "arrowcolor": "#2a3f5f",
                      "arrowhead": 0,
                      "arrowwidth": 1
                    },
                    "autotypenumbers": "strict",
                    "coloraxis": {
                      "colorbar": {
                        "outlinewidth": 0,
                        "ticks": ""
                      }
                    },
                    "colorscale": {
                      "diverging": [
                        [
                          0,
                          "#8e0152"
                        ],
                        [
                          0.1,
                          "#c51b7d"
                        ],
                        [
                          0.2,
                          "#de77ae"
                        ],
                        [
                          0.3,
                          "#f1b6da"
                        ],
                        [
                          0.4,
                          "#fde0ef"
                        ],
                        [
                          0.5,
                          "#f7f7f7"
                        ],
                        [
                          0.6,
                          "#e6f5d0"
                        ],
                        [
                          0.7,
                          "#b8e186"
                        ],
                        [
                          0.8,
                          "#7fbc41"
                        ],
                        [
                          0.9,
                          "#4d9221"
                        ],
                        [
                          1,
                          "#276419"
                        ]
                      ],
                      "sequential": [
                        [
                          0,
                          "#0d0887"
                        ],
                        [
                          0.1111111111111111,
                          "#46039f"
                        ],
                        [
                          0.2222222222222222,
                          "#7201a8"
                        ],
                        [
                          0.3333333333333333,
                          "#9c179e"
                        ],
                        [
                          0.4444444444444444,
                          "#bd3786"
                        ],
                        [
                          0.5555555555555556,
                          "#d8576b"
                        ],
                        [
                          0.6666666666666666,
                          "#ed7953"
                        ],
                        [
                          0.7777777777777778,
                          "#fb9f3a"
                        ],
                        [
                          0.8888888888888888,
                          "#fdca26"
                        ],
                        [
                          1,
                          "#f0f921"
                        ]
                      ],
                      "sequentialminus": [
                        [
                          0,
                          "#0d0887"
                        ],
                        [
                          0.1111111111111111,
                          "#46039f"
                        ],
                        [
                          0.2222222222222222,
                          "#7201a8"
                        ],
                        [
                          0.3333333333333333,
                          "#9c179e"
                        ],
                        [
                          0.4444444444444444,
                          "#bd3786"
                        ],
                        [
                          0.5555555555555556,
                          "#d8576b"
                        ],
                        [
                          0.6666666666666666,
                          "#ed7953"
                        ],
                        [
                          0.7777777777777778,
                          "#fb9f3a"
                        ],
                        [
                          0.8888888888888888,
                          "#fdca26"
                        ],
                        [
                          1,
                          "#f0f921"
                        ]
                      ]
                    },
                    "colorway": [
                      "#636efa",
                      "#EF553B",
                      "#00cc96",
                      "#ab63fa",
                      "#FFA15A",
                      "#19d3f3",
                      "#FF6692",
                      "#B6E880",
                      "#FF97FF",
                      "#FECB52"
                    ],
                    "font": {
                      "color": "#2a3f5f"
                    },
                    "geo": {
                      "bgcolor": "white",
                      "lakecolor": "white",
                      "landcolor": "#E5ECF6",
                      "showlakes": true,
                      "showland": true,
                      "subunitcolor": "white"
                    },
                    "hoverlabel": {
                      "align": "left"
                    },
                    "hovermode": "closest",
                    "mapbox": {
                      "style": "light"
                    },
                    "paper_bgcolor": "white",
                    "plot_bgcolor": "#E5ECF6",
                    "polar": {
                      "angularaxis": {
                        "gridcolor": "white",
                        "linecolor": "white",
                        "ticks": ""
                      },
                      "bgcolor": "#E5ECF6",
                      "radialaxis": {
                        "gridcolor": "white",
                        "linecolor": "white",
                        "ticks": ""
                      }
                    },
                    "scene": {
                      "xaxis": {
                        "backgroundcolor": "#E5ECF6",
                        "gridcolor": "white",
                        "gridwidth": 2,
                        "linecolor": "white",
                        "showbackground": true,
                        "ticks": "",
                        "zerolinecolor": "white"
                      },
                      "yaxis": {
                        "backgroundcolor": "#E5ECF6",
                        "gridcolor": "white",
                        "gridwidth": 2,
                        "linecolor": "white",
                        "showbackground": true,
                        "ticks": "",
                        "zerolinecolor": "white"
                      },
                      "zaxis": {
                        "backgroundcolor": "#E5ECF6",
                        "gridcolor": "white",
                        "gridwidth": 2,
                        "linecolor": "white",
                        "showbackground": true,
                        "ticks": "",
                        "zerolinecolor": "white"
                      }
                    },
                    "shapedefaults": {
                      "line": {
                        "color": "#2a3f5f"
                      }
                    },
                    "ternary": {
                      "aaxis": {
                        "gridcolor": "white",
                        "linecolor": "white",
                        "ticks": ""
                      },
                      "baxis": {
                        "gridcolor": "white",
                        "linecolor": "white",
                        "ticks": ""
                      },
                      "bgcolor": "#E5ECF6",
                      "caxis": {
                        "gridcolor": "white",
                        "linecolor": "white",
                        "ticks": ""
                      }
                    },
                    "title": {
                      "x": 0.05
                    },
                    "xaxis": {
                      "automargin": true,
                      "gridcolor": "white",
                      "linecolor": "white",
                      "ticks": "",
                      "title": {
                        "standoff": 15
                      },
                      "zerolinecolor": "white",
                      "zerolinewidth": 2
                    },
                    "yaxis": {
                      "automargin": true,
                      "gridcolor": "white",
                      "linecolor": "white",
                      "ticks": "",
                      "title": {
                        "standoff": 15
                      },
                      "zerolinecolor": "white",
                      "zerolinewidth": 2
                    }
                  }
                },
                "title": {
                  "text": "20 NEGARA TERBAIK TERBAIK BERDASARKAN PENJUALAN"
                }
              }
            }
          },
          "metadata": {},
          "output_type": "display_data"
        }
      ],
      "source": [
        "grouped_data = data.groupby('Country')['Price'].sum().reset_index()\n",
        "\n",
        "top_countries = grouped_data.nlargest(20, 'Price')\n",
        "\n",
        "fig = px.pie(top_countries, values='Price', names='Country', title='20 NEGARA TERBAIK TERBAIK BERDASARKAN PENJUALAN')\n",
        "fig.show()\n"
      ]
    },
    {
      "cell_type": "code",
      "execution_count": 11,
      "metadata": {
        "colab": {
          "base_uri": "https://localhost:8080/",
          "height": 631
        },
        "id": "FQVHHEAaw6ea",
        "outputId": "11f297de-b6d4-4bc6-d225-2095494c5a8b"
      },
      "outputs": [
        {
          "data": {
            "application/vnd.plotly.v1+json": {
              "config": {
                "plotlyServerURL": "https://plot.ly"
              },
              "data": [
                {
                  "alignmentgroup": "True",
                  "hovertemplate": "InvoiceDate=%{x}<br>Price=%{y}<extra></extra>",
                  "legendgroup": "",
                  "marker": {
                    "color": "#636efa",
                    "pattern": {
                      "shape": ""
                    }
                  },
                  "name": "",
                  "offsetgroup": "",
                  "orientation": "v",
                  "showlegend": false,
                  "textposition": "auto",
                  "type": "bar",
                  "x": [
                    "2009-12-06T00:00:00",
                    "2009-12-13T00:00:00",
                    "2009-12-20T00:00:00",
                    "2009-12-27T00:00:00",
                    "2010-01-03T00:00:00",
                    "2010-01-10T00:00:00",
                    "2010-01-17T00:00:00",
                    "2010-01-24T00:00:00",
                    "2010-01-31T00:00:00",
                    "2010-02-07T00:00:00",
                    "2010-02-14T00:00:00",
                    "2010-02-21T00:00:00",
                    "2010-02-28T00:00:00",
                    "2010-03-07T00:00:00",
                    "2010-03-14T00:00:00",
                    "2010-03-21T00:00:00",
                    "2010-03-28T00:00:00",
                    "2010-04-04T00:00:00",
                    "2010-04-11T00:00:00",
                    "2010-04-18T00:00:00",
                    "2010-04-25T00:00:00",
                    "2010-05-02T00:00:00",
                    "2010-05-09T00:00:00",
                    "2010-05-16T00:00:00",
                    "2010-05-23T00:00:00",
                    "2010-05-30T00:00:00",
                    "2010-06-06T00:00:00",
                    "2010-06-13T00:00:00",
                    "2010-06-20T00:00:00",
                    "2010-06-27T00:00:00",
                    "2010-07-04T00:00:00",
                    "2010-07-11T00:00:00",
                    "2010-07-18T00:00:00",
                    "2010-07-25T00:00:00",
                    "2010-08-01T00:00:00",
                    "2010-08-08T00:00:00",
                    "2010-08-15T00:00:00",
                    "2010-08-22T00:00:00",
                    "2010-08-29T00:00:00",
                    "2010-09-05T00:00:00",
                    "2010-09-12T00:00:00",
                    "2010-09-19T00:00:00",
                    "2010-09-26T00:00:00",
                    "2010-10-03T00:00:00",
                    "2010-10-10T00:00:00",
                    "2010-10-17T00:00:00",
                    "2010-10-24T00:00:00",
                    "2010-10-31T00:00:00",
                    "2010-11-07T00:00:00",
                    "2010-11-14T00:00:00",
                    "2010-11-21T00:00:00",
                    "2010-11-28T00:00:00",
                    "2010-12-05T00:00:00",
                    "2010-12-12T00:00:00"
                  ],
                  "xaxis": "x",
                  "y": [
                    58716.23,
                    54730.840000000004,
                    66395.7,
                    18464.99,
                    0,
                    16426.86,
                    47581.69,
                    41073.781,
                    60589.031,
                    29485.552,
                    24023.38,
                    33399.112,
                    29866.492,
                    36484.81,
                    33795.65,
                    76419.941,
                    97631.55,
                    30676.36,
                    22748.52,
                    43689.221,
                    65406.3,
                    -15201.699,
                    34179.3,
                    33646.13,
                    33577.3,
                    38844.76,
                    30029.79,
                    51303.17,
                    98910.18000000001,
                    34252.16,
                    32390.99,
                    33628.17,
                    35066.95,
                    -13537.130000000001,
                    36210.8,
                    29225.14,
                    37733.11,
                    27127.7,
                    50230.17,
                    29312.78,
                    29465.38,
                    57483.731,
                    42649.57,
                    90602.79,
                    107001.55,
                    75543.46,
                    18259.059999999998,
                    50145.72,
                    57473.92,
                    82068.221,
                    67222.881,
                    70802.9,
                    63073.13,
                    127471.56
                  ],
                  "yaxis": "y"
                }
              ],
              "layout": {
                "barmode": "relative",
                "legend": {
                  "tracegroupgap": 0
                },
                "margin": {
                  "t": 60
                },
                "template": {
                  "data": {
                    "bar": [
                      {
                        "error_x": {
                          "color": "#2a3f5f"
                        },
                        "error_y": {
                          "color": "#2a3f5f"
                        },
                        "marker": {
                          "line": {
                            "color": "#E5ECF6",
                            "width": 0.5
                          },
                          "pattern": {
                            "fillmode": "overlay",
                            "size": 10,
                            "solidity": 0.2
                          }
                        },
                        "type": "bar"
                      }
                    ],
                    "barpolar": [
                      {
                        "marker": {
                          "line": {
                            "color": "#E5ECF6",
                            "width": 0.5
                          },
                          "pattern": {
                            "fillmode": "overlay",
                            "size": 10,
                            "solidity": 0.2
                          }
                        },
                        "type": "barpolar"
                      }
                    ],
                    "carpet": [
                      {
                        "aaxis": {
                          "endlinecolor": "#2a3f5f",
                          "gridcolor": "white",
                          "linecolor": "white",
                          "minorgridcolor": "white",
                          "startlinecolor": "#2a3f5f"
                        },
                        "baxis": {
                          "endlinecolor": "#2a3f5f",
                          "gridcolor": "white",
                          "linecolor": "white",
                          "minorgridcolor": "white",
                          "startlinecolor": "#2a3f5f"
                        },
                        "type": "carpet"
                      }
                    ],
                    "choropleth": [
                      {
                        "colorbar": {
                          "outlinewidth": 0,
                          "ticks": ""
                        },
                        "type": "choropleth"
                      }
                    ],
                    "contour": [
                      {
                        "colorbar": {
                          "outlinewidth": 0,
                          "ticks": ""
                        },
                        "colorscale": [
                          [
                            0,
                            "#0d0887"
                          ],
                          [
                            0.1111111111111111,
                            "#46039f"
                          ],
                          [
                            0.2222222222222222,
                            "#7201a8"
                          ],
                          [
                            0.3333333333333333,
                            "#9c179e"
                          ],
                          [
                            0.4444444444444444,
                            "#bd3786"
                          ],
                          [
                            0.5555555555555556,
                            "#d8576b"
                          ],
                          [
                            0.6666666666666666,
                            "#ed7953"
                          ],
                          [
                            0.7777777777777778,
                            "#fb9f3a"
                          ],
                          [
                            0.8888888888888888,
                            "#fdca26"
                          ],
                          [
                            1,
                            "#f0f921"
                          ]
                        ],
                        "type": "contour"
                      }
                    ],
                    "contourcarpet": [
                      {
                        "colorbar": {
                          "outlinewidth": 0,
                          "ticks": ""
                        },
                        "type": "contourcarpet"
                      }
                    ],
                    "heatmap": [
                      {
                        "colorbar": {
                          "outlinewidth": 0,
                          "ticks": ""
                        },
                        "colorscale": [
                          [
                            0,
                            "#0d0887"
                          ],
                          [
                            0.1111111111111111,
                            "#46039f"
                          ],
                          [
                            0.2222222222222222,
                            "#7201a8"
                          ],
                          [
                            0.3333333333333333,
                            "#9c179e"
                          ],
                          [
                            0.4444444444444444,
                            "#bd3786"
                          ],
                          [
                            0.5555555555555556,
                            "#d8576b"
                          ],
                          [
                            0.6666666666666666,
                            "#ed7953"
                          ],
                          [
                            0.7777777777777778,
                            "#fb9f3a"
                          ],
                          [
                            0.8888888888888888,
                            "#fdca26"
                          ],
                          [
                            1,
                            "#f0f921"
                          ]
                        ],
                        "type": "heatmap"
                      }
                    ],
                    "heatmapgl": [
                      {
                        "colorbar": {
                          "outlinewidth": 0,
                          "ticks": ""
                        },
                        "colorscale": [
                          [
                            0,
                            "#0d0887"
                          ],
                          [
                            0.1111111111111111,
                            "#46039f"
                          ],
                          [
                            0.2222222222222222,
                            "#7201a8"
                          ],
                          [
                            0.3333333333333333,
                            "#9c179e"
                          ],
                          [
                            0.4444444444444444,
                            "#bd3786"
                          ],
                          [
                            0.5555555555555556,
                            "#d8576b"
                          ],
                          [
                            0.6666666666666666,
                            "#ed7953"
                          ],
                          [
                            0.7777777777777778,
                            "#fb9f3a"
                          ],
                          [
                            0.8888888888888888,
                            "#fdca26"
                          ],
                          [
                            1,
                            "#f0f921"
                          ]
                        ],
                        "type": "heatmapgl"
                      }
                    ],
                    "histogram": [
                      {
                        "marker": {
                          "pattern": {
                            "fillmode": "overlay",
                            "size": 10,
                            "solidity": 0.2
                          }
                        },
                        "type": "histogram"
                      }
                    ],
                    "histogram2d": [
                      {
                        "colorbar": {
                          "outlinewidth": 0,
                          "ticks": ""
                        },
                        "colorscale": [
                          [
                            0,
                            "#0d0887"
                          ],
                          [
                            0.1111111111111111,
                            "#46039f"
                          ],
                          [
                            0.2222222222222222,
                            "#7201a8"
                          ],
                          [
                            0.3333333333333333,
                            "#9c179e"
                          ],
                          [
                            0.4444444444444444,
                            "#bd3786"
                          ],
                          [
                            0.5555555555555556,
                            "#d8576b"
                          ],
                          [
                            0.6666666666666666,
                            "#ed7953"
                          ],
                          [
                            0.7777777777777778,
                            "#fb9f3a"
                          ],
                          [
                            0.8888888888888888,
                            "#fdca26"
                          ],
                          [
                            1,
                            "#f0f921"
                          ]
                        ],
                        "type": "histogram2d"
                      }
                    ],
                    "histogram2dcontour": [
                      {
                        "colorbar": {
                          "outlinewidth": 0,
                          "ticks": ""
                        },
                        "colorscale": [
                          [
                            0,
                            "#0d0887"
                          ],
                          [
                            0.1111111111111111,
                            "#46039f"
                          ],
                          [
                            0.2222222222222222,
                            "#7201a8"
                          ],
                          [
                            0.3333333333333333,
                            "#9c179e"
                          ],
                          [
                            0.4444444444444444,
                            "#bd3786"
                          ],
                          [
                            0.5555555555555556,
                            "#d8576b"
                          ],
                          [
                            0.6666666666666666,
                            "#ed7953"
                          ],
                          [
                            0.7777777777777778,
                            "#fb9f3a"
                          ],
                          [
                            0.8888888888888888,
                            "#fdca26"
                          ],
                          [
                            1,
                            "#f0f921"
                          ]
                        ],
                        "type": "histogram2dcontour"
                      }
                    ],
                    "mesh3d": [
                      {
                        "colorbar": {
                          "outlinewidth": 0,
                          "ticks": ""
                        },
                        "type": "mesh3d"
                      }
                    ],
                    "parcoords": [
                      {
                        "line": {
                          "colorbar": {
                            "outlinewidth": 0,
                            "ticks": ""
                          }
                        },
                        "type": "parcoords"
                      }
                    ],
                    "pie": [
                      {
                        "automargin": true,
                        "type": "pie"
                      }
                    ],
                    "scatter": [
                      {
                        "fillpattern": {
                          "fillmode": "overlay",
                          "size": 10,
                          "solidity": 0.2
                        },
                        "type": "scatter"
                      }
                    ],
                    "scatter3d": [
                      {
                        "line": {
                          "colorbar": {
                            "outlinewidth": 0,
                            "ticks": ""
                          }
                        },
                        "marker": {
                          "colorbar": {
                            "outlinewidth": 0,
                            "ticks": ""
                          }
                        },
                        "type": "scatter3d"
                      }
                    ],
                    "scattercarpet": [
                      {
                        "marker": {
                          "colorbar": {
                            "outlinewidth": 0,
                            "ticks": ""
                          }
                        },
                        "type": "scattercarpet"
                      }
                    ],
                    "scattergeo": [
                      {
                        "marker": {
                          "colorbar": {
                            "outlinewidth": 0,
                            "ticks": ""
                          }
                        },
                        "type": "scattergeo"
                      }
                    ],
                    "scattergl": [
                      {
                        "marker": {
                          "colorbar": {
                            "outlinewidth": 0,
                            "ticks": ""
                          }
                        },
                        "type": "scattergl"
                      }
                    ],
                    "scattermapbox": [
                      {
                        "marker": {
                          "colorbar": {
                            "outlinewidth": 0,
                            "ticks": ""
                          }
                        },
                        "type": "scattermapbox"
                      }
                    ],
                    "scatterpolar": [
                      {
                        "marker": {
                          "colorbar": {
                            "outlinewidth": 0,
                            "ticks": ""
                          }
                        },
                        "type": "scatterpolar"
                      }
                    ],
                    "scatterpolargl": [
                      {
                        "marker": {
                          "colorbar": {
                            "outlinewidth": 0,
                            "ticks": ""
                          }
                        },
                        "type": "scatterpolargl"
                      }
                    ],
                    "scatterternary": [
                      {
                        "marker": {
                          "colorbar": {
                            "outlinewidth": 0,
                            "ticks": ""
                          }
                        },
                        "type": "scatterternary"
                      }
                    ],
                    "surface": [
                      {
                        "colorbar": {
                          "outlinewidth": 0,
                          "ticks": ""
                        },
                        "colorscale": [
                          [
                            0,
                            "#0d0887"
                          ],
                          [
                            0.1111111111111111,
                            "#46039f"
                          ],
                          [
                            0.2222222222222222,
                            "#7201a8"
                          ],
                          [
                            0.3333333333333333,
                            "#9c179e"
                          ],
                          [
                            0.4444444444444444,
                            "#bd3786"
                          ],
                          [
                            0.5555555555555556,
                            "#d8576b"
                          ],
                          [
                            0.6666666666666666,
                            "#ed7953"
                          ],
                          [
                            0.7777777777777778,
                            "#fb9f3a"
                          ],
                          [
                            0.8888888888888888,
                            "#fdca26"
                          ],
                          [
                            1,
                            "#f0f921"
                          ]
                        ],
                        "type": "surface"
                      }
                    ],
                    "table": [
                      {
                        "cells": {
                          "fill": {
                            "color": "#EBF0F8"
                          },
                          "line": {
                            "color": "white"
                          }
                        },
                        "header": {
                          "fill": {
                            "color": "#C8D4E3"
                          },
                          "line": {
                            "color": "white"
                          }
                        },
                        "type": "table"
                      }
                    ]
                  },
                  "layout": {
                    "annotationdefaults": {
                      "arrowcolor": "#2a3f5f",
                      "arrowhead": 0,
                      "arrowwidth": 1
                    },
                    "autotypenumbers": "strict",
                    "coloraxis": {
                      "colorbar": {
                        "outlinewidth": 0,
                        "ticks": ""
                      }
                    },
                    "colorscale": {
                      "diverging": [
                        [
                          0,
                          "#8e0152"
                        ],
                        [
                          0.1,
                          "#c51b7d"
                        ],
                        [
                          0.2,
                          "#de77ae"
                        ],
                        [
                          0.3,
                          "#f1b6da"
                        ],
                        [
                          0.4,
                          "#fde0ef"
                        ],
                        [
                          0.5,
                          "#f7f7f7"
                        ],
                        [
                          0.6,
                          "#e6f5d0"
                        ],
                        [
                          0.7,
                          "#b8e186"
                        ],
                        [
                          0.8,
                          "#7fbc41"
                        ],
                        [
                          0.9,
                          "#4d9221"
                        ],
                        [
                          1,
                          "#276419"
                        ]
                      ],
                      "sequential": [
                        [
                          0,
                          "#0d0887"
                        ],
                        [
                          0.1111111111111111,
                          "#46039f"
                        ],
                        [
                          0.2222222222222222,
                          "#7201a8"
                        ],
                        [
                          0.3333333333333333,
                          "#9c179e"
                        ],
                        [
                          0.4444444444444444,
                          "#bd3786"
                        ],
                        [
                          0.5555555555555556,
                          "#d8576b"
                        ],
                        [
                          0.6666666666666666,
                          "#ed7953"
                        ],
                        [
                          0.7777777777777778,
                          "#fb9f3a"
                        ],
                        [
                          0.8888888888888888,
                          "#fdca26"
                        ],
                        [
                          1,
                          "#f0f921"
                        ]
                      ],
                      "sequentialminus": [
                        [
                          0,
                          "#0d0887"
                        ],
                        [
                          0.1111111111111111,
                          "#46039f"
                        ],
                        [
                          0.2222222222222222,
                          "#7201a8"
                        ],
                        [
                          0.3333333333333333,
                          "#9c179e"
                        ],
                        [
                          0.4444444444444444,
                          "#bd3786"
                        ],
                        [
                          0.5555555555555556,
                          "#d8576b"
                        ],
                        [
                          0.6666666666666666,
                          "#ed7953"
                        ],
                        [
                          0.7777777777777778,
                          "#fb9f3a"
                        ],
                        [
                          0.8888888888888888,
                          "#fdca26"
                        ],
                        [
                          1,
                          "#f0f921"
                        ]
                      ]
                    },
                    "colorway": [
                      "#636efa",
                      "#EF553B",
                      "#00cc96",
                      "#ab63fa",
                      "#FFA15A",
                      "#19d3f3",
                      "#FF6692",
                      "#B6E880",
                      "#FF97FF",
                      "#FECB52"
                    ],
                    "font": {
                      "color": "#2a3f5f"
                    },
                    "geo": {
                      "bgcolor": "white",
                      "lakecolor": "white",
                      "landcolor": "#E5ECF6",
                      "showlakes": true,
                      "showland": true,
                      "subunitcolor": "white"
                    },
                    "hoverlabel": {
                      "align": "left"
                    },
                    "hovermode": "closest",
                    "mapbox": {
                      "style": "light"
                    },
                    "paper_bgcolor": "white",
                    "plot_bgcolor": "#E5ECF6",
                    "polar": {
                      "angularaxis": {
                        "gridcolor": "white",
                        "linecolor": "white",
                        "ticks": ""
                      },
                      "bgcolor": "#E5ECF6",
                      "radialaxis": {
                        "gridcolor": "white",
                        "linecolor": "white",
                        "ticks": ""
                      }
                    },
                    "scene": {
                      "xaxis": {
                        "backgroundcolor": "#E5ECF6",
                        "gridcolor": "white",
                        "gridwidth": 2,
                        "linecolor": "white",
                        "showbackground": true,
                        "ticks": "",
                        "zerolinecolor": "white"
                      },
                      "yaxis": {
                        "backgroundcolor": "#E5ECF6",
                        "gridcolor": "white",
                        "gridwidth": 2,
                        "linecolor": "white",
                        "showbackground": true,
                        "ticks": "",
                        "zerolinecolor": "white"
                      },
                      "zaxis": {
                        "backgroundcolor": "#E5ECF6",
                        "gridcolor": "white",
                        "gridwidth": 2,
                        "linecolor": "white",
                        "showbackground": true,
                        "ticks": "",
                        "zerolinecolor": "white"
                      }
                    },
                    "shapedefaults": {
                      "line": {
                        "color": "#2a3f5f"
                      }
                    },
                    "ternary": {
                      "aaxis": {
                        "gridcolor": "white",
                        "linecolor": "white",
                        "ticks": ""
                      },
                      "baxis": {
                        "gridcolor": "white",
                        "linecolor": "white",
                        "ticks": ""
                      },
                      "bgcolor": "#E5ECF6",
                      "caxis": {
                        "gridcolor": "white",
                        "linecolor": "white",
                        "ticks": ""
                      }
                    },
                    "title": {
                      "x": 0.05
                    },
                    "xaxis": {
                      "automargin": true,
                      "gridcolor": "white",
                      "linecolor": "white",
                      "ticks": "",
                      "title": {
                        "standoff": 15
                      },
                      "zerolinecolor": "white",
                      "zerolinewidth": 2
                    },
                    "yaxis": {
                      "automargin": true,
                      "gridcolor": "white",
                      "linecolor": "white",
                      "ticks": "",
                      "title": {
                        "standoff": 15
                      },
                      "zerolinecolor": "white",
                      "zerolinewidth": 2
                    }
                  }
                },
                "xaxis": {
                  "anchor": "y",
                  "domain": [
                    0,
                    1
                  ],
                  "title": {
                    "text": "InvoiceDate"
                  }
                },
                "yaxis": {
                  "anchor": "x",
                  "domain": [
                    0,
                    1
                  ],
                  "title": {
                    "text": "Price"
                  }
                }
              }
            }
          },
          "metadata": {},
          "output_type": "display_data"
        }
      ],
      "source": [
        "px.bar(data[['InvoiceDate','Price']].set_index('InvoiceDate').resample('W').sum().reset_index(),\n",
        "       x='InvoiceDate', y='Price')"
      ]
    },
    {
      "cell_type": "markdown",
      "metadata": {
        "id": "YhY0LjphV19X"
      },
      "source": [
        "#DATA PREPARATION"
      ]
    },
    {
      "cell_type": "code",
      "execution_count": 12,
      "metadata": {
        "colab": {
          "base_uri": "https://localhost:8080/"
        },
        "id": "JtoHi_wrV3o9",
        "outputId": "526152ed-c32c-4e73-edec-1e85775f907b"
      },
      "outputs": [],
      "source": [
        "data['Description'] = data['Description'].apply(lambda x: str(x).lower() if pd.notna(x) else x)"
      ]
    },
    {
      "cell_type": "code",
      "execution_count": 13,
      "metadata": {
        "colab": {
          "base_uri": "https://localhost:8080/"
        },
        "id": "hifwOb6oXhae",
        "outputId": "8e88f4c5-23b0-4c12-ba8b-060c248ee815"
      },
      "outputs": [],
      "source": [
        "data['Description'] = data['Description'].apply(lambda x: str(x).strip() if pd.notna(x) else x)"
      ]
    },
    {
      "cell_type": "code",
      "execution_count": 14,
      "metadata": {
        "colab": {
          "base_uri": "https://localhost:8080/",
          "height": 452
        },
        "id": "FwMf37zTYyXn",
        "outputId": "0ab77465-0acd-4c34-e77b-e98cdfb9e031"
      },
      "outputs": [
        {
          "data": {
            "text/html": [
              "<div>\n",
              "<style scoped>\n",
              "    .dataframe tbody tr th:only-of-type {\n",
              "        vertical-align: middle;\n",
              "    }\n",
              "\n",
              "    .dataframe tbody tr th {\n",
              "        vertical-align: top;\n",
              "    }\n",
              "\n",
              "    .dataframe thead th {\n",
              "        text-align: right;\n",
              "    }\n",
              "</style>\n",
              "<table border=\"1\" class=\"dataframe\">\n",
              "  <thead>\n",
              "    <tr style=\"text-align: right;\">\n",
              "      <th></th>\n",
              "      <th>Invoice</th>\n",
              "      <th>Description</th>\n",
              "    </tr>\n",
              "  </thead>\n",
              "  <tbody>\n",
              "    <tr>\n",
              "      <th>0</th>\n",
              "      <td>489434</td>\n",
              "      <td>15cm christmas glass ball 20 lights</td>\n",
              "    </tr>\n",
              "    <tr>\n",
              "      <th>1</th>\n",
              "      <td>489434</td>\n",
              "      <td>pink cherry lights</td>\n",
              "    </tr>\n",
              "    <tr>\n",
              "      <th>2</th>\n",
              "      <td>489434</td>\n",
              "      <td>white cherry lights</td>\n",
              "    </tr>\n",
              "    <tr>\n",
              "      <th>3</th>\n",
              "      <td>489434</td>\n",
              "      <td>record frame 7\" single size</td>\n",
              "    </tr>\n",
              "    <tr>\n",
              "      <th>4</th>\n",
              "      <td>489434</td>\n",
              "      <td>strawberry ceramic trinket box</td>\n",
              "    </tr>\n",
              "    <tr>\n",
              "      <th>5</th>\n",
              "      <td>489434</td>\n",
              "      <td>pink doughnut trinket pot</td>\n",
              "    </tr>\n",
              "    <tr>\n",
              "      <th>6</th>\n",
              "      <td>489434</td>\n",
              "      <td>save the planet mug</td>\n",
              "    </tr>\n",
              "    <tr>\n",
              "      <th>7</th>\n",
              "      <td>489434</td>\n",
              "      <td>fancy font home sweet home doormat</td>\n",
              "    </tr>\n",
              "    <tr>\n",
              "      <th>8</th>\n",
              "      <td>489435</td>\n",
              "      <td>cat bowl</td>\n",
              "    </tr>\n",
              "    <tr>\n",
              "      <th>9</th>\n",
              "      <td>489435</td>\n",
              "      <td>dog bowl , chasing ball design</td>\n",
              "    </tr>\n",
              "  </tbody>\n",
              "</table>\n",
              "</div>"
            ],
            "text/plain": [
              "  Invoice                          Description\n",
              "0  489434  15cm christmas glass ball 20 lights\n",
              "1  489434                   pink cherry lights\n",
              "2  489434                  white cherry lights\n",
              "3  489434          record frame 7\" single size\n",
              "4  489434       strawberry ceramic trinket box\n",
              "5  489434            pink doughnut trinket pot\n",
              "6  489434                  save the planet mug\n",
              "7  489434   fancy font home sweet home doormat\n",
              "8  489435                             cat bowl\n",
              "9  489435       dog bowl , chasing ball design"
            ]
          },
          "execution_count": 14,
          "metadata": {},
          "output_type": "execute_result"
        }
      ],
      "source": [
        "data = data[[\"Invoice\", \"Description\"]].copy()\n",
        "data.head(10)"
      ]
    },
    {
      "cell_type": "code",
      "execution_count": 15,
      "metadata": {
        "colab": {
          "base_uri": "https://localhost:8080/",
          "height": 452
        },
        "id": "fItlURMSvQjp",
        "outputId": "b5584a43-74c2-4750-b4c2-1b2cd7970d31"
      },
      "outputs": [
        {
          "data": {
            "text/html": [
              "<div>\n",
              "<style scoped>\n",
              "    .dataframe tbody tr th:only-of-type {\n",
              "        vertical-align: middle;\n",
              "    }\n",
              "\n",
              "    .dataframe tbody tr th {\n",
              "        vertical-align: top;\n",
              "    }\n",
              "\n",
              "    .dataframe thead th {\n",
              "        text-align: right;\n",
              "    }\n",
              "</style>\n",
              "<table border=\"1\" class=\"dataframe\">\n",
              "  <thead>\n",
              "    <tr style=\"text-align: right;\">\n",
              "      <th></th>\n",
              "      <th>Invoice</th>\n",
              "      <th>Description</th>\n",
              "      <th>Count</th>\n",
              "    </tr>\n",
              "  </thead>\n",
              "  <tbody>\n",
              "    <tr>\n",
              "      <th>0</th>\n",
              "      <td>489434</td>\n",
              "      <td>15cm christmas glass ball 20 lights</td>\n",
              "      <td>1</td>\n",
              "    </tr>\n",
              "    <tr>\n",
              "      <th>1</th>\n",
              "      <td>489434</td>\n",
              "      <td>fancy font home sweet home doormat</td>\n",
              "      <td>1</td>\n",
              "    </tr>\n",
              "    <tr>\n",
              "      <th>2</th>\n",
              "      <td>489434</td>\n",
              "      <td>pink cherry lights</td>\n",
              "      <td>1</td>\n",
              "    </tr>\n",
              "    <tr>\n",
              "      <th>3</th>\n",
              "      <td>489434</td>\n",
              "      <td>pink doughnut trinket pot</td>\n",
              "      <td>1</td>\n",
              "    </tr>\n",
              "    <tr>\n",
              "      <th>4</th>\n",
              "      <td>489434</td>\n",
              "      <td>record frame 7\" single size</td>\n",
              "      <td>1</td>\n",
              "    </tr>\n",
              "    <tr>\n",
              "      <th>5</th>\n",
              "      <td>489434</td>\n",
              "      <td>save the planet mug</td>\n",
              "      <td>1</td>\n",
              "    </tr>\n",
              "    <tr>\n",
              "      <th>6</th>\n",
              "      <td>489434</td>\n",
              "      <td>strawberry ceramic trinket box</td>\n",
              "      <td>1</td>\n",
              "    </tr>\n",
              "    <tr>\n",
              "      <th>7</th>\n",
              "      <td>489434</td>\n",
              "      <td>white cherry lights</td>\n",
              "      <td>1</td>\n",
              "    </tr>\n",
              "    <tr>\n",
              "      <th>8</th>\n",
              "      <td>489435</td>\n",
              "      <td>cat bowl</td>\n",
              "      <td>1</td>\n",
              "    </tr>\n",
              "    <tr>\n",
              "      <th>9</th>\n",
              "      <td>489435</td>\n",
              "      <td>dog bowl , chasing ball design</td>\n",
              "      <td>1</td>\n",
              "    </tr>\n",
              "  </tbody>\n",
              "</table>\n",
              "</div>"
            ],
            "text/plain": [
              "  Invoice                          Description  Count\n",
              "0  489434  15cm christmas glass ball 20 lights      1\n",
              "1  489434   fancy font home sweet home doormat      1\n",
              "2  489434                   pink cherry lights      1\n",
              "3  489434            pink doughnut trinket pot      1\n",
              "4  489434          record frame 7\" single size      1\n",
              "5  489434                  save the planet mug      1\n",
              "6  489434       strawberry ceramic trinket box      1\n",
              "7  489434                  white cherry lights      1\n",
              "8  489435                             cat bowl      1\n",
              "9  489435       dog bowl , chasing ball design      1"
            ]
          },
          "execution_count": 15,
          "metadata": {},
          "output_type": "execute_result"
        }
      ],
      "source": [
        "item_count = data.groupby([\"Invoice\", \"Description\"])[\"Description\"].count().reset_index(name=\"Count\")\n",
        "item_count.head(10)"
      ]
    },
    {
      "cell_type": "code",
      "execution_count": 16,
      "metadata": {
        "colab": {
          "base_uri": "https://localhost:8080/",
          "height": 460
        },
        "id": "X-5kzrK7wY4t",
        "outputId": "08102443-29dc-4f32-b81a-5f5e5b380fab"
      },
      "outputs": [
        {
          "name": "stdout",
          "output_type": "stream",
          "text": [
            "Ukuran Dataset: (25888, 4633)\n"
          ]
        },
        {
          "data": {
            "text/html": [
              "<div>\n",
              "<style scoped>\n",
              "    .dataframe tbody tr th:only-of-type {\n",
              "        vertical-align: middle;\n",
              "    }\n",
              "\n",
              "    .dataframe tbody tr th {\n",
              "        vertical-align: top;\n",
              "    }\n",
              "\n",
              "    .dataframe thead th {\n",
              "        text-align: right;\n",
              "    }\n",
              "</style>\n",
              "<table border=\"1\" class=\"dataframe\">\n",
              "  <thead>\n",
              "    <tr style=\"text-align: right;\">\n",
              "      <th>Description</th>\n",
              "      <th>*boombox ipod classic</th>\n",
              "      <th>*usb office glitter lamp</th>\n",
              "      <th>*usb office mirror ball</th>\n",
              "      <th>10 colour spaceboy pen</th>\n",
              "      <th>11 pc ceramic tea set polkadot</th>\n",
              "      <th>12 ass zinc christmas decorations</th>\n",
              "      <th>12 coloured party balloons</th>\n",
              "      <th>12 daisy pegs in wood box</th>\n",
              "      <th>12 egg house painted wood</th>\n",
              "      <th>12 ivory rose peg place settings</th>\n",
              "      <th>...</th>\n",
              "      <th>zinc heart lattice charger large</th>\n",
              "      <th>zinc heart lattice charger small</th>\n",
              "      <th>zinc heart lattice double planter</th>\n",
              "      <th>zinc heart lattice planter bowl</th>\n",
              "      <th>zinc heart lattice t-light holder</th>\n",
              "      <th>zinc heart lattice tray oval</th>\n",
              "      <th>zinc metal heart decoration</th>\n",
              "      <th>zinc police box lantern</th>\n",
              "      <th>zinc top  2 door wooden shelf</th>\n",
              "      <th>zinc willie winkie  candle stick</th>\n",
              "    </tr>\n",
              "    <tr>\n",
              "      <th>Invoice</th>\n",
              "      <th></th>\n",
              "      <th></th>\n",
              "      <th></th>\n",
              "      <th></th>\n",
              "      <th></th>\n",
              "      <th></th>\n",
              "      <th></th>\n",
              "      <th></th>\n",
              "      <th></th>\n",
              "      <th></th>\n",
              "      <th></th>\n",
              "      <th></th>\n",
              "      <th></th>\n",
              "      <th></th>\n",
              "      <th></th>\n",
              "      <th></th>\n",
              "      <th></th>\n",
              "      <th></th>\n",
              "      <th></th>\n",
              "      <th></th>\n",
              "      <th></th>\n",
              "    </tr>\n",
              "  </thead>\n",
              "  <tbody>\n",
              "    <tr>\n",
              "      <th>489434</th>\n",
              "      <td>0.0</td>\n",
              "      <td>0.0</td>\n",
              "      <td>0.0</td>\n",
              "      <td>0.0</td>\n",
              "      <td>0.0</td>\n",
              "      <td>0.0</td>\n",
              "      <td>0.0</td>\n",
              "      <td>0.0</td>\n",
              "      <td>0.0</td>\n",
              "      <td>0.0</td>\n",
              "      <td>...</td>\n",
              "      <td>0.0</td>\n",
              "      <td>0.0</td>\n",
              "      <td>0.0</td>\n",
              "      <td>0.0</td>\n",
              "      <td>0.0</td>\n",
              "      <td>0.0</td>\n",
              "      <td>0.0</td>\n",
              "      <td>0.0</td>\n",
              "      <td>0.0</td>\n",
              "      <td>0.0</td>\n",
              "    </tr>\n",
              "    <tr>\n",
              "      <th>489435</th>\n",
              "      <td>0.0</td>\n",
              "      <td>0.0</td>\n",
              "      <td>0.0</td>\n",
              "      <td>0.0</td>\n",
              "      <td>0.0</td>\n",
              "      <td>0.0</td>\n",
              "      <td>0.0</td>\n",
              "      <td>0.0</td>\n",
              "      <td>0.0</td>\n",
              "      <td>0.0</td>\n",
              "      <td>...</td>\n",
              "      <td>0.0</td>\n",
              "      <td>0.0</td>\n",
              "      <td>0.0</td>\n",
              "      <td>0.0</td>\n",
              "      <td>0.0</td>\n",
              "      <td>0.0</td>\n",
              "      <td>0.0</td>\n",
              "      <td>0.0</td>\n",
              "      <td>0.0</td>\n",
              "      <td>0.0</td>\n",
              "    </tr>\n",
              "    <tr>\n",
              "      <th>489436</th>\n",
              "      <td>0.0</td>\n",
              "      <td>0.0</td>\n",
              "      <td>0.0</td>\n",
              "      <td>0.0</td>\n",
              "      <td>0.0</td>\n",
              "      <td>0.0</td>\n",
              "      <td>0.0</td>\n",
              "      <td>0.0</td>\n",
              "      <td>0.0</td>\n",
              "      <td>0.0</td>\n",
              "      <td>...</td>\n",
              "      <td>0.0</td>\n",
              "      <td>0.0</td>\n",
              "      <td>0.0</td>\n",
              "      <td>0.0</td>\n",
              "      <td>0.0</td>\n",
              "      <td>0.0</td>\n",
              "      <td>0.0</td>\n",
              "      <td>0.0</td>\n",
              "      <td>0.0</td>\n",
              "      <td>0.0</td>\n",
              "    </tr>\n",
              "    <tr>\n",
              "      <th>489437</th>\n",
              "      <td>0.0</td>\n",
              "      <td>0.0</td>\n",
              "      <td>0.0</td>\n",
              "      <td>0.0</td>\n",
              "      <td>0.0</td>\n",
              "      <td>0.0</td>\n",
              "      <td>0.0</td>\n",
              "      <td>0.0</td>\n",
              "      <td>0.0</td>\n",
              "      <td>0.0</td>\n",
              "      <td>...</td>\n",
              "      <td>0.0</td>\n",
              "      <td>0.0</td>\n",
              "      <td>0.0</td>\n",
              "      <td>0.0</td>\n",
              "      <td>0.0</td>\n",
              "      <td>0.0</td>\n",
              "      <td>0.0</td>\n",
              "      <td>0.0</td>\n",
              "      <td>0.0</td>\n",
              "      <td>0.0</td>\n",
              "    </tr>\n",
              "    <tr>\n",
              "      <th>489438</th>\n",
              "      <td>0.0</td>\n",
              "      <td>0.0</td>\n",
              "      <td>0.0</td>\n",
              "      <td>0.0</td>\n",
              "      <td>0.0</td>\n",
              "      <td>0.0</td>\n",
              "      <td>0.0</td>\n",
              "      <td>0.0</td>\n",
              "      <td>0.0</td>\n",
              "      <td>0.0</td>\n",
              "      <td>...</td>\n",
              "      <td>0.0</td>\n",
              "      <td>0.0</td>\n",
              "      <td>0.0</td>\n",
              "      <td>0.0</td>\n",
              "      <td>0.0</td>\n",
              "      <td>0.0</td>\n",
              "      <td>0.0</td>\n",
              "      <td>0.0</td>\n",
              "      <td>0.0</td>\n",
              "      <td>0.0</td>\n",
              "    </tr>\n",
              "  </tbody>\n",
              "</table>\n",
              "<p>5 rows × 4633 columns</p>\n",
              "</div>"
            ],
            "text/plain": [
              "Description  *boombox ipod classic  *usb office glitter lamp  \\\n",
              "Invoice                                                        \n",
              "489434                         0.0                       0.0   \n",
              "489435                         0.0                       0.0   \n",
              "489436                         0.0                       0.0   \n",
              "489437                         0.0                       0.0   \n",
              "489438                         0.0                       0.0   \n",
              "\n",
              "Description  *usb office mirror ball  10 colour spaceboy pen  \\\n",
              "Invoice                                                        \n",
              "489434                           0.0                     0.0   \n",
              "489435                           0.0                     0.0   \n",
              "489436                           0.0                     0.0   \n",
              "489437                           0.0                     0.0   \n",
              "489438                           0.0                     0.0   \n",
              "\n",
              "Description  11 pc ceramic tea set polkadot  \\\n",
              "Invoice                                       \n",
              "489434                                  0.0   \n",
              "489435                                  0.0   \n",
              "489436                                  0.0   \n",
              "489437                                  0.0   \n",
              "489438                                  0.0   \n",
              "\n",
              "Description  12 ass zinc christmas decorations  12 coloured party balloons  \\\n",
              "Invoice                                                                      \n",
              "489434                                     0.0                         0.0   \n",
              "489435                                     0.0                         0.0   \n",
              "489436                                     0.0                         0.0   \n",
              "489437                                     0.0                         0.0   \n",
              "489438                                     0.0                         0.0   \n",
              "\n",
              "Description  12 daisy pegs in wood box  12 egg house painted wood  \\\n",
              "Invoice                                                             \n",
              "489434                             0.0                        0.0   \n",
              "489435                             0.0                        0.0   \n",
              "489436                             0.0                        0.0   \n",
              "489437                             0.0                        0.0   \n",
              "489438                             0.0                        0.0   \n",
              "\n",
              "Description  12 ivory rose peg place settings  ...  \\\n",
              "Invoice                                        ...   \n",
              "489434                                    0.0  ...   \n",
              "489435                                    0.0  ...   \n",
              "489436                                    0.0  ...   \n",
              "489437                                    0.0  ...   \n",
              "489438                                    0.0  ...   \n",
              "\n",
              "Description  zinc heart lattice charger large  \\\n",
              "Invoice                                         \n",
              "489434                                    0.0   \n",
              "489435                                    0.0   \n",
              "489436                                    0.0   \n",
              "489437                                    0.0   \n",
              "489438                                    0.0   \n",
              "\n",
              "Description  zinc heart lattice charger small  \\\n",
              "Invoice                                         \n",
              "489434                                    0.0   \n",
              "489435                                    0.0   \n",
              "489436                                    0.0   \n",
              "489437                                    0.0   \n",
              "489438                                    0.0   \n",
              "\n",
              "Description  zinc heart lattice double planter  \\\n",
              "Invoice                                          \n",
              "489434                                     0.0   \n",
              "489435                                     0.0   \n",
              "489436                                     0.0   \n",
              "489437                                     0.0   \n",
              "489438                                     0.0   \n",
              "\n",
              "Description  zinc heart lattice planter bowl  \\\n",
              "Invoice                                        \n",
              "489434                                   0.0   \n",
              "489435                                   0.0   \n",
              "489436                                   0.0   \n",
              "489437                                   0.0   \n",
              "489438                                   0.0   \n",
              "\n",
              "Description  zinc heart lattice t-light holder  zinc heart lattice tray oval  \\\n",
              "Invoice                                                                        \n",
              "489434                                     0.0                           0.0   \n",
              "489435                                     0.0                           0.0   \n",
              "489436                                     0.0                           0.0   \n",
              "489437                                     0.0                           0.0   \n",
              "489438                                     0.0                           0.0   \n",
              "\n",
              "Description  zinc metal heart decoration  zinc police box lantern  \\\n",
              "Invoice                                                             \n",
              "489434                               0.0                      0.0   \n",
              "489435                               0.0                      0.0   \n",
              "489436                               0.0                      0.0   \n",
              "489437                               0.0                      0.0   \n",
              "489438                               0.0                      0.0   \n",
              "\n",
              "Description  zinc top  2 door wooden shelf  zinc willie winkie  candle stick  \n",
              "Invoice                                                                       \n",
              "489434                                 0.0                               0.0  \n",
              "489435                                 0.0                               0.0  \n",
              "489436                                 0.0                               0.0  \n",
              "489437                                 0.0                               0.0  \n",
              "489438                                 0.0                               0.0  \n",
              "\n",
              "[5 rows x 4633 columns]"
            ]
          },
          "execution_count": 16,
          "metadata": {},
          "output_type": "execute_result"
        }
      ],
      "source": [
        "item_count_pivot = item_count.pivot_table(index='Invoice', columns='Description', values='Count', aggfunc='sum').fillna(0)\n",
        "print(\"Ukuran Dataset:\", item_count_pivot.shape)\n",
        "item_count_pivot.head()"
      ]
    },
    {
      "cell_type": "code",
      "execution_count": 17,
      "metadata": {
        "colab": {
          "base_uri": "https://localhost:8080/",
          "height": 443
        },
        "id": "dRFbErLWyM0d",
        "outputId": "c576ade2-1d54-4283-8a78-70518c4c7e00"
      },
      "outputs": [
        {
          "data": {
            "text/html": [
              "<div>\n",
              "<style scoped>\n",
              "    .dataframe tbody tr th:only-of-type {\n",
              "        vertical-align: middle;\n",
              "    }\n",
              "\n",
              "    .dataframe tbody tr th {\n",
              "        vertical-align: top;\n",
              "    }\n",
              "\n",
              "    .dataframe thead th {\n",
              "        text-align: right;\n",
              "    }\n",
              "</style>\n",
              "<table border=\"1\" class=\"dataframe\">\n",
              "  <thead>\n",
              "    <tr style=\"text-align: right;\">\n",
              "      <th>Description</th>\n",
              "      <th>*boombox ipod classic</th>\n",
              "      <th>*usb office glitter lamp</th>\n",
              "      <th>*usb office mirror ball</th>\n",
              "      <th>10 colour spaceboy pen</th>\n",
              "      <th>11 pc ceramic tea set polkadot</th>\n",
              "      <th>12 ass zinc christmas decorations</th>\n",
              "      <th>12 coloured party balloons</th>\n",
              "      <th>12 daisy pegs in wood box</th>\n",
              "      <th>12 egg house painted wood</th>\n",
              "      <th>12 ivory rose peg place settings</th>\n",
              "      <th>...</th>\n",
              "      <th>zinc heart lattice charger large</th>\n",
              "      <th>zinc heart lattice charger small</th>\n",
              "      <th>zinc heart lattice double planter</th>\n",
              "      <th>zinc heart lattice planter bowl</th>\n",
              "      <th>zinc heart lattice t-light holder</th>\n",
              "      <th>zinc heart lattice tray oval</th>\n",
              "      <th>zinc metal heart decoration</th>\n",
              "      <th>zinc police box lantern</th>\n",
              "      <th>zinc top  2 door wooden shelf</th>\n",
              "      <th>zinc willie winkie  candle stick</th>\n",
              "    </tr>\n",
              "    <tr>\n",
              "      <th>Invoice</th>\n",
              "      <th></th>\n",
              "      <th></th>\n",
              "      <th></th>\n",
              "      <th></th>\n",
              "      <th></th>\n",
              "      <th></th>\n",
              "      <th></th>\n",
              "      <th></th>\n",
              "      <th></th>\n",
              "      <th></th>\n",
              "      <th></th>\n",
              "      <th></th>\n",
              "      <th></th>\n",
              "      <th></th>\n",
              "      <th></th>\n",
              "      <th></th>\n",
              "      <th></th>\n",
              "      <th></th>\n",
              "      <th></th>\n",
              "      <th></th>\n",
              "      <th></th>\n",
              "    </tr>\n",
              "  </thead>\n",
              "  <tbody>\n",
              "    <tr>\n",
              "      <th>489434</th>\n",
              "      <td>0</td>\n",
              "      <td>0</td>\n",
              "      <td>0</td>\n",
              "      <td>0</td>\n",
              "      <td>0</td>\n",
              "      <td>0</td>\n",
              "      <td>0</td>\n",
              "      <td>0</td>\n",
              "      <td>0</td>\n",
              "      <td>0</td>\n",
              "      <td>...</td>\n",
              "      <td>0</td>\n",
              "      <td>0</td>\n",
              "      <td>0</td>\n",
              "      <td>0</td>\n",
              "      <td>0</td>\n",
              "      <td>0</td>\n",
              "      <td>0</td>\n",
              "      <td>0</td>\n",
              "      <td>0</td>\n",
              "      <td>0</td>\n",
              "    </tr>\n",
              "    <tr>\n",
              "      <th>489435</th>\n",
              "      <td>0</td>\n",
              "      <td>0</td>\n",
              "      <td>0</td>\n",
              "      <td>0</td>\n",
              "      <td>0</td>\n",
              "      <td>0</td>\n",
              "      <td>0</td>\n",
              "      <td>0</td>\n",
              "      <td>0</td>\n",
              "      <td>0</td>\n",
              "      <td>...</td>\n",
              "      <td>0</td>\n",
              "      <td>0</td>\n",
              "      <td>0</td>\n",
              "      <td>0</td>\n",
              "      <td>0</td>\n",
              "      <td>0</td>\n",
              "      <td>0</td>\n",
              "      <td>0</td>\n",
              "      <td>0</td>\n",
              "      <td>0</td>\n",
              "    </tr>\n",
              "    <tr>\n",
              "      <th>489436</th>\n",
              "      <td>0</td>\n",
              "      <td>0</td>\n",
              "      <td>0</td>\n",
              "      <td>0</td>\n",
              "      <td>0</td>\n",
              "      <td>0</td>\n",
              "      <td>0</td>\n",
              "      <td>0</td>\n",
              "      <td>0</td>\n",
              "      <td>0</td>\n",
              "      <td>...</td>\n",
              "      <td>0</td>\n",
              "      <td>0</td>\n",
              "      <td>0</td>\n",
              "      <td>0</td>\n",
              "      <td>0</td>\n",
              "      <td>0</td>\n",
              "      <td>0</td>\n",
              "      <td>0</td>\n",
              "      <td>0</td>\n",
              "      <td>0</td>\n",
              "    </tr>\n",
              "    <tr>\n",
              "      <th>489437</th>\n",
              "      <td>0</td>\n",
              "      <td>0</td>\n",
              "      <td>0</td>\n",
              "      <td>0</td>\n",
              "      <td>0</td>\n",
              "      <td>0</td>\n",
              "      <td>0</td>\n",
              "      <td>0</td>\n",
              "      <td>0</td>\n",
              "      <td>0</td>\n",
              "      <td>...</td>\n",
              "      <td>0</td>\n",
              "      <td>0</td>\n",
              "      <td>0</td>\n",
              "      <td>0</td>\n",
              "      <td>0</td>\n",
              "      <td>0</td>\n",
              "      <td>0</td>\n",
              "      <td>0</td>\n",
              "      <td>0</td>\n",
              "      <td>0</td>\n",
              "    </tr>\n",
              "    <tr>\n",
              "      <th>489438</th>\n",
              "      <td>0</td>\n",
              "      <td>0</td>\n",
              "      <td>0</td>\n",
              "      <td>0</td>\n",
              "      <td>0</td>\n",
              "      <td>0</td>\n",
              "      <td>0</td>\n",
              "      <td>0</td>\n",
              "      <td>0</td>\n",
              "      <td>0</td>\n",
              "      <td>...</td>\n",
              "      <td>0</td>\n",
              "      <td>0</td>\n",
              "      <td>0</td>\n",
              "      <td>0</td>\n",
              "      <td>0</td>\n",
              "      <td>0</td>\n",
              "      <td>0</td>\n",
              "      <td>0</td>\n",
              "      <td>0</td>\n",
              "      <td>0</td>\n",
              "    </tr>\n",
              "  </tbody>\n",
              "</table>\n",
              "<p>5 rows × 4633 columns</p>\n",
              "</div>"
            ],
            "text/plain": [
              "Description  *boombox ipod classic  *usb office glitter lamp  \\\n",
              "Invoice                                                        \n",
              "489434                           0                         0   \n",
              "489435                           0                         0   \n",
              "489436                           0                         0   \n",
              "489437                           0                         0   \n",
              "489438                           0                         0   \n",
              "\n",
              "Description  *usb office mirror ball  10 colour spaceboy pen  \\\n",
              "Invoice                                                        \n",
              "489434                             0                       0   \n",
              "489435                             0                       0   \n",
              "489436                             0                       0   \n",
              "489437                             0                       0   \n",
              "489438                             0                       0   \n",
              "\n",
              "Description  11 pc ceramic tea set polkadot  \\\n",
              "Invoice                                       \n",
              "489434                                    0   \n",
              "489435                                    0   \n",
              "489436                                    0   \n",
              "489437                                    0   \n",
              "489438                                    0   \n",
              "\n",
              "Description  12 ass zinc christmas decorations  12 coloured party balloons  \\\n",
              "Invoice                                                                      \n",
              "489434                                       0                           0   \n",
              "489435                                       0                           0   \n",
              "489436                                       0                           0   \n",
              "489437                                       0                           0   \n",
              "489438                                       0                           0   \n",
              "\n",
              "Description  12 daisy pegs in wood box  12 egg house painted wood  \\\n",
              "Invoice                                                             \n",
              "489434                               0                          0   \n",
              "489435                               0                          0   \n",
              "489436                               0                          0   \n",
              "489437                               0                          0   \n",
              "489438                               0                          0   \n",
              "\n",
              "Description  12 ivory rose peg place settings  ...  \\\n",
              "Invoice                                        ...   \n",
              "489434                                      0  ...   \n",
              "489435                                      0  ...   \n",
              "489436                                      0  ...   \n",
              "489437                                      0  ...   \n",
              "489438                                      0  ...   \n",
              "\n",
              "Description  zinc heart lattice charger large  \\\n",
              "Invoice                                         \n",
              "489434                                      0   \n",
              "489435                                      0   \n",
              "489436                                      0   \n",
              "489437                                      0   \n",
              "489438                                      0   \n",
              "\n",
              "Description  zinc heart lattice charger small  \\\n",
              "Invoice                                         \n",
              "489434                                      0   \n",
              "489435                                      0   \n",
              "489436                                      0   \n",
              "489437                                      0   \n",
              "489438                                      0   \n",
              "\n",
              "Description  zinc heart lattice double planter  \\\n",
              "Invoice                                          \n",
              "489434                                       0   \n",
              "489435                                       0   \n",
              "489436                                       0   \n",
              "489437                                       0   \n",
              "489438                                       0   \n",
              "\n",
              "Description  zinc heart lattice planter bowl  \\\n",
              "Invoice                                        \n",
              "489434                                     0   \n",
              "489435                                     0   \n",
              "489436                                     0   \n",
              "489437                                     0   \n",
              "489438                                     0   \n",
              "\n",
              "Description  zinc heart lattice t-light holder  zinc heart lattice tray oval  \\\n",
              "Invoice                                                                        \n",
              "489434                                       0                             0   \n",
              "489435                                       0                             0   \n",
              "489436                                       0                             0   \n",
              "489437                                       0                             0   \n",
              "489438                                       0                             0   \n",
              "\n",
              "Description  zinc metal heart decoration  zinc police box lantern  \\\n",
              "Invoice                                                             \n",
              "489434                                 0                        0   \n",
              "489435                                 0                        0   \n",
              "489436                                 0                        0   \n",
              "489437                                 0                        0   \n",
              "489438                                 0                        0   \n",
              "\n",
              "Description  zinc top  2 door wooden shelf  zinc willie winkie  candle stick  \n",
              "Invoice                                                                       \n",
              "489434                                   0                                 0  \n",
              "489435                                   0                                 0  \n",
              "489436                                   0                                 0  \n",
              "489437                                   0                                 0  \n",
              "489438                                   0                                 0  \n",
              "\n",
              "[5 rows x 4633 columns]"
            ]
          },
          "execution_count": 17,
          "metadata": {},
          "output_type": "execute_result"
        }
      ],
      "source": [
        "item_count_pivot = item_count_pivot.astype(\"int32\")\n",
        "item_count_pivot.head()"
      ]
    },
    {
      "cell_type": "code",
      "execution_count": 18,
      "metadata": {
        "colab": {
          "base_uri": "https://localhost:8080/",
          "height": 443
        },
        "id": "oHEkzsYvy3Wc",
        "outputId": "2a5f0fbc-cd5e-4332-98f3-a78946229ed5"
      },
      "outputs": [
        {
          "name": "stderr",
          "output_type": "stream",
          "text": [
            "C:\\Users\\musya\\AppData\\Local\\Temp\\ipykernel_20008\\512023677.py:6: FutureWarning:\n",
            "\n",
            "DataFrame.applymap has been deprecated. Use DataFrame.map instead.\n",
            "\n"
          ]
        },
        {
          "data": {
            "text/html": [
              "<div>\n",
              "<style scoped>\n",
              "    .dataframe tbody tr th:only-of-type {\n",
              "        vertical-align: middle;\n",
              "    }\n",
              "\n",
              "    .dataframe tbody tr th {\n",
              "        vertical-align: top;\n",
              "    }\n",
              "\n",
              "    .dataframe thead th {\n",
              "        text-align: right;\n",
              "    }\n",
              "</style>\n",
              "<table border=\"1\" class=\"dataframe\">\n",
              "  <thead>\n",
              "    <tr style=\"text-align: right;\">\n",
              "      <th>Description</th>\n",
              "      <th>*boombox ipod classic</th>\n",
              "      <th>*usb office glitter lamp</th>\n",
              "      <th>*usb office mirror ball</th>\n",
              "      <th>10 colour spaceboy pen</th>\n",
              "      <th>11 pc ceramic tea set polkadot</th>\n",
              "      <th>12 ass zinc christmas decorations</th>\n",
              "      <th>12 coloured party balloons</th>\n",
              "      <th>12 daisy pegs in wood box</th>\n",
              "      <th>12 egg house painted wood</th>\n",
              "      <th>12 ivory rose peg place settings</th>\n",
              "      <th>...</th>\n",
              "      <th>zinc heart lattice charger large</th>\n",
              "      <th>zinc heart lattice charger small</th>\n",
              "      <th>zinc heart lattice double planter</th>\n",
              "      <th>zinc heart lattice planter bowl</th>\n",
              "      <th>zinc heart lattice t-light holder</th>\n",
              "      <th>zinc heart lattice tray oval</th>\n",
              "      <th>zinc metal heart decoration</th>\n",
              "      <th>zinc police box lantern</th>\n",
              "      <th>zinc top  2 door wooden shelf</th>\n",
              "      <th>zinc willie winkie  candle stick</th>\n",
              "    </tr>\n",
              "    <tr>\n",
              "      <th>Invoice</th>\n",
              "      <th></th>\n",
              "      <th></th>\n",
              "      <th></th>\n",
              "      <th></th>\n",
              "      <th></th>\n",
              "      <th></th>\n",
              "      <th></th>\n",
              "      <th></th>\n",
              "      <th></th>\n",
              "      <th></th>\n",
              "      <th></th>\n",
              "      <th></th>\n",
              "      <th></th>\n",
              "      <th></th>\n",
              "      <th></th>\n",
              "      <th></th>\n",
              "      <th></th>\n",
              "      <th></th>\n",
              "      <th></th>\n",
              "      <th></th>\n",
              "      <th></th>\n",
              "    </tr>\n",
              "  </thead>\n",
              "  <tbody>\n",
              "    <tr>\n",
              "      <th>489434</th>\n",
              "      <td>0</td>\n",
              "      <td>0</td>\n",
              "      <td>0</td>\n",
              "      <td>0</td>\n",
              "      <td>0</td>\n",
              "      <td>0</td>\n",
              "      <td>0</td>\n",
              "      <td>0</td>\n",
              "      <td>0</td>\n",
              "      <td>0</td>\n",
              "      <td>...</td>\n",
              "      <td>0</td>\n",
              "      <td>0</td>\n",
              "      <td>0</td>\n",
              "      <td>0</td>\n",
              "      <td>0</td>\n",
              "      <td>0</td>\n",
              "      <td>0</td>\n",
              "      <td>0</td>\n",
              "      <td>0</td>\n",
              "      <td>0</td>\n",
              "    </tr>\n",
              "    <tr>\n",
              "      <th>489435</th>\n",
              "      <td>0</td>\n",
              "      <td>0</td>\n",
              "      <td>0</td>\n",
              "      <td>0</td>\n",
              "      <td>0</td>\n",
              "      <td>0</td>\n",
              "      <td>0</td>\n",
              "      <td>0</td>\n",
              "      <td>0</td>\n",
              "      <td>0</td>\n",
              "      <td>...</td>\n",
              "      <td>0</td>\n",
              "      <td>0</td>\n",
              "      <td>0</td>\n",
              "      <td>0</td>\n",
              "      <td>0</td>\n",
              "      <td>0</td>\n",
              "      <td>0</td>\n",
              "      <td>0</td>\n",
              "      <td>0</td>\n",
              "      <td>0</td>\n",
              "    </tr>\n",
              "    <tr>\n",
              "      <th>489436</th>\n",
              "      <td>0</td>\n",
              "      <td>0</td>\n",
              "      <td>0</td>\n",
              "      <td>0</td>\n",
              "      <td>0</td>\n",
              "      <td>0</td>\n",
              "      <td>0</td>\n",
              "      <td>0</td>\n",
              "      <td>0</td>\n",
              "      <td>0</td>\n",
              "      <td>...</td>\n",
              "      <td>0</td>\n",
              "      <td>0</td>\n",
              "      <td>0</td>\n",
              "      <td>0</td>\n",
              "      <td>0</td>\n",
              "      <td>0</td>\n",
              "      <td>0</td>\n",
              "      <td>0</td>\n",
              "      <td>0</td>\n",
              "      <td>0</td>\n",
              "    </tr>\n",
              "    <tr>\n",
              "      <th>489437</th>\n",
              "      <td>0</td>\n",
              "      <td>0</td>\n",
              "      <td>0</td>\n",
              "      <td>0</td>\n",
              "      <td>0</td>\n",
              "      <td>0</td>\n",
              "      <td>0</td>\n",
              "      <td>0</td>\n",
              "      <td>0</td>\n",
              "      <td>0</td>\n",
              "      <td>...</td>\n",
              "      <td>0</td>\n",
              "      <td>0</td>\n",
              "      <td>0</td>\n",
              "      <td>0</td>\n",
              "      <td>0</td>\n",
              "      <td>0</td>\n",
              "      <td>0</td>\n",
              "      <td>0</td>\n",
              "      <td>0</td>\n",
              "      <td>0</td>\n",
              "    </tr>\n",
              "    <tr>\n",
              "      <th>489438</th>\n",
              "      <td>0</td>\n",
              "      <td>0</td>\n",
              "      <td>0</td>\n",
              "      <td>0</td>\n",
              "      <td>0</td>\n",
              "      <td>0</td>\n",
              "      <td>0</td>\n",
              "      <td>0</td>\n",
              "      <td>0</td>\n",
              "      <td>0</td>\n",
              "      <td>...</td>\n",
              "      <td>0</td>\n",
              "      <td>0</td>\n",
              "      <td>0</td>\n",
              "      <td>0</td>\n",
              "      <td>0</td>\n",
              "      <td>0</td>\n",
              "      <td>0</td>\n",
              "      <td>0</td>\n",
              "      <td>0</td>\n",
              "      <td>0</td>\n",
              "    </tr>\n",
              "  </tbody>\n",
              "</table>\n",
              "<p>5 rows × 4633 columns</p>\n",
              "</div>"
            ],
            "text/plain": [
              "Description  *boombox ipod classic  *usb office glitter lamp  \\\n",
              "Invoice                                                        \n",
              "489434                           0                         0   \n",
              "489435                           0                         0   \n",
              "489436                           0                         0   \n",
              "489437                           0                         0   \n",
              "489438                           0                         0   \n",
              "\n",
              "Description  *usb office mirror ball  10 colour spaceboy pen  \\\n",
              "Invoice                                                        \n",
              "489434                             0                       0   \n",
              "489435                             0                       0   \n",
              "489436                             0                       0   \n",
              "489437                             0                       0   \n",
              "489438                             0                       0   \n",
              "\n",
              "Description  11 pc ceramic tea set polkadot  \\\n",
              "Invoice                                       \n",
              "489434                                    0   \n",
              "489435                                    0   \n",
              "489436                                    0   \n",
              "489437                                    0   \n",
              "489438                                    0   \n",
              "\n",
              "Description  12 ass zinc christmas decorations  12 coloured party balloons  \\\n",
              "Invoice                                                                      \n",
              "489434                                       0                           0   \n",
              "489435                                       0                           0   \n",
              "489436                                       0                           0   \n",
              "489437                                       0                           0   \n",
              "489438                                       0                           0   \n",
              "\n",
              "Description  12 daisy pegs in wood box  12 egg house painted wood  \\\n",
              "Invoice                                                             \n",
              "489434                               0                          0   \n",
              "489435                               0                          0   \n",
              "489436                               0                          0   \n",
              "489437                               0                          0   \n",
              "489438                               0                          0   \n",
              "\n",
              "Description  12 ivory rose peg place settings  ...  \\\n",
              "Invoice                                        ...   \n",
              "489434                                      0  ...   \n",
              "489435                                      0  ...   \n",
              "489436                                      0  ...   \n",
              "489437                                      0  ...   \n",
              "489438                                      0  ...   \n",
              "\n",
              "Description  zinc heart lattice charger large  \\\n",
              "Invoice                                         \n",
              "489434                                      0   \n",
              "489435                                      0   \n",
              "489436                                      0   \n",
              "489437                                      0   \n",
              "489438                                      0   \n",
              "\n",
              "Description  zinc heart lattice charger small  \\\n",
              "Invoice                                         \n",
              "489434                                      0   \n",
              "489435                                      0   \n",
              "489436                                      0   \n",
              "489437                                      0   \n",
              "489438                                      0   \n",
              "\n",
              "Description  zinc heart lattice double planter  \\\n",
              "Invoice                                          \n",
              "489434                                       0   \n",
              "489435                                       0   \n",
              "489436                                       0   \n",
              "489437                                       0   \n",
              "489438                                       0   \n",
              "\n",
              "Description  zinc heart lattice planter bowl  \\\n",
              "Invoice                                        \n",
              "489434                                     0   \n",
              "489435                                     0   \n",
              "489436                                     0   \n",
              "489437                                     0   \n",
              "489438                                     0   \n",
              "\n",
              "Description  zinc heart lattice t-light holder  zinc heart lattice tray oval  \\\n",
              "Invoice                                                                        \n",
              "489434                                       0                             0   \n",
              "489435                                       0                             0   \n",
              "489436                                       0                             0   \n",
              "489437                                       0                             0   \n",
              "489438                                       0                             0   \n",
              "\n",
              "Description  zinc metal heart decoration  zinc police box lantern  \\\n",
              "Invoice                                                             \n",
              "489434                                 0                        0   \n",
              "489435                                 0                        0   \n",
              "489436                                 0                        0   \n",
              "489437                                 0                        0   \n",
              "489438                                 0                        0   \n",
              "\n",
              "Description  zinc top  2 door wooden shelf  zinc willie winkie  candle stick  \n",
              "Invoice                                                                       \n",
              "489434                                   0                                 0  \n",
              "489435                                   0                                 0  \n",
              "489436                                   0                                 0  \n",
              "489437                                   0                                 0  \n",
              "489438                                   0                                 0  \n",
              "\n",
              "[5 rows x 4633 columns]"
            ]
          },
          "execution_count": 18,
          "metadata": {},
          "output_type": "execute_result"
        }
      ],
      "source": [
        "def encode(x):\n",
        "  if x <=0:\n",
        "    return 0\n",
        "  elif x >= 1:\n",
        "    return 1\n",
        "item_count_pivot = item_count_pivot.applymap(encode)\n",
        "item_count_pivot.head()"
      ]
    },
    {
      "cell_type": "code",
      "execution_count": 19,
      "metadata": {
        "colab": {
          "base_uri": "https://localhost:8080/"
        },
        "id": "vYENAklxzlyc",
        "outputId": "eec55d0b-20f2-42eb-9d63-fd8cfdec2b9f"
      },
      "outputs": [
        {
          "name": "stdout",
          "output_type": "stream",
          "text": [
            "Ukuran dataset : (25888, 4633)\n",
            "Jumlah transaksi : 25888\n",
            "Jumlah item : 4633\n"
          ]
        }
      ],
      "source": [
        "print(\"Ukuran dataset :\", item_count_pivot.shape)\n",
        "print(\"Jumlah transaksi :\", item_count_pivot.shape[0])\n",
        "print(\"Jumlah item :\", item_count_pivot.shape[1])"
      ]
    },
    {
      "cell_type": "markdown",
      "metadata": {
        "id": "27RvnPew6p96"
      },
      "source": [
        "#MODELING"
      ]
    },
    {
      "cell_type": "code",
      "execution_count": 20,
      "metadata": {
        "colab": {
          "base_uri": "https://localhost:8080/"
        },
        "id": "xOri-R-1EpGH",
        "outputId": "bf1a06ad-30b5-44e8-d4e7-4cc019a0cf05"
      },
      "outputs": [],
      "source": [
        "te = TransactionEncoder()\n",
        "te_ary = te.fit(data).transform(data)\n",
        "df_encoded = pd.DataFrame(te_ary, columns=te.columns_)"
      ]
    },
    {
      "cell_type": "code",
      "execution_count": 21,
      "metadata": {
        "colab": {
          "base_uri": "https://localhost:8080/",
          "height": 522
        },
        "id": "0vcL3bGc6rLw",
        "outputId": "8966c131-ad71-467d-9344-6a8709882917"
      },
      "outputs": [
        {
          "name": "stderr",
          "output_type": "stream",
          "text": [
            "c:\\Users\\musya\\AppData\\Local\\Programs\\Python\\Python310\\lib\\site-packages\\mlxtend\\frequent_patterns\\fpcommon.py:110: DeprecationWarning:\n",
            "\n",
            "DataFrames with non-bool types result in worse computationalperformance and their support might be discontinued in the future.Please use a DataFrame with bool type\n",
            "\n"
          ]
        },
        {
          "data": {
            "text/html": [
              "<div>\n",
              "<style scoped>\n",
              "    .dataframe tbody tr th:only-of-type {\n",
              "        vertical-align: middle;\n",
              "    }\n",
              "\n",
              "    .dataframe tbody tr th {\n",
              "        vertical-align: top;\n",
              "    }\n",
              "\n",
              "    .dataframe thead th {\n",
              "        text-align: right;\n",
              "    }\n",
              "</style>\n",
              "<table border=\"1\" class=\"dataframe\">\n",
              "  <thead>\n",
              "    <tr style=\"text-align: right;\">\n",
              "      <th></th>\n",
              "      <th>support</th>\n",
              "      <th>itemsets</th>\n",
              "    </tr>\n",
              "  </thead>\n",
              "  <tbody>\n",
              "    <tr>\n",
              "      <th>141</th>\n",
              "      <td>0.131683</td>\n",
              "      <td>(white hanging heart t-light holder)</td>\n",
              "    </tr>\n",
              "    <tr>\n",
              "      <th>112</th>\n",
              "      <td>0.084441</td>\n",
              "      <td>(regency cakestand 3 tier)</td>\n",
              "    </tr>\n",
              "    <tr>\n",
              "      <th>131</th>\n",
              "      <td>0.068256</td>\n",
              "      <td>(strawberry ceramic trinket box)</td>\n",
              "    </tr>\n",
              "    <tr>\n",
              "      <th>4</th>\n",
              "      <td>0.054852</td>\n",
              "      <td>(assorted colour bird ornament)</td>\n",
              "    </tr>\n",
              "    <tr>\n",
              "      <th>83</th>\n",
              "      <td>0.054813</td>\n",
              "      <td>(pack of 72 retro spot cake cases)</td>\n",
              "    </tr>\n",
              "    <tr>\n",
              "      <th>1</th>\n",
              "      <td>0.051839</td>\n",
              "      <td>(60 teatime fairy cake cases)</td>\n",
              "    </tr>\n",
              "    <tr>\n",
              "      <th>43</th>\n",
              "      <td>0.051800</td>\n",
              "      <td>(home building block word)</td>\n",
              "    </tr>\n",
              "    <tr>\n",
              "      <th>51</th>\n",
              "      <td>0.049328</td>\n",
              "      <td>(jumbo bag red retrospot)</td>\n",
              "    </tr>\n",
              "    <tr>\n",
              "      <th>69</th>\n",
              "      <td>0.048130</td>\n",
              "      <td>(lunch bag red spotty)</td>\n",
              "    </tr>\n",
              "    <tr>\n",
              "      <th>60</th>\n",
              "      <td>0.046238</td>\n",
              "      <td>(jumbo storage bag suki)</td>\n",
              "    </tr>\n",
              "  </tbody>\n",
              "</table>\n",
              "</div>"
            ],
            "text/plain": [
              "      support                              itemsets\n",
              "141  0.131683  (white hanging heart t-light holder)\n",
              "112  0.084441            (regency cakestand 3 tier)\n",
              "131  0.068256      (strawberry ceramic trinket box)\n",
              "4    0.054852       (assorted colour bird ornament)\n",
              "83   0.054813    (pack of 72 retro spot cake cases)\n",
              "1    0.051839         (60 teatime fairy cake cases)\n",
              "43   0.051800            (home building block word)\n",
              "51   0.049328             (jumbo bag red retrospot)\n",
              "69   0.048130                (lunch bag red spotty)\n",
              "60   0.046238              (jumbo storage bag suki)"
            ]
          },
          "execution_count": 21,
          "metadata": {},
          "output_type": "execute_result"
        }
      ],
      "source": [
        "support = 0.02\n",
        "frequent_items = apriori(item_count_pivot, min_support= support, use_colnames=True)\n",
        "frequent_items.sort_values(\"support\", ascending=False).head(10)"
      ]
    },
    {
      "cell_type": "code",
      "execution_count": 22,
      "metadata": {
        "colab": {
          "base_uri": "https://localhost:8080/",
          "height": 609
        },
        "id": "L-U0qhwc_hKd",
        "outputId": "e6b66b59-e9e9-4c54-d1c8-3c57a428f0f8"
      },
      "outputs": [
        {
          "data": {
            "text/html": [
              "<div>\n",
              "<style scoped>\n",
              "    .dataframe tbody tr th:only-of-type {\n",
              "        vertical-align: middle;\n",
              "    }\n",
              "\n",
              "    .dataframe tbody tr th {\n",
              "        vertical-align: top;\n",
              "    }\n",
              "\n",
              "    .dataframe thead th {\n",
              "        text-align: right;\n",
              "    }\n",
              "</style>\n",
              "<table border=\"1\" class=\"dataframe\">\n",
              "  <thead>\n",
              "    <tr style=\"text-align: right;\">\n",
              "      <th></th>\n",
              "      <th>antecedents</th>\n",
              "      <th>consequents</th>\n",
              "      <th>support</th>\n",
              "      <th>confidence</th>\n",
              "      <th>lift</th>\n",
              "    </tr>\n",
              "  </thead>\n",
              "  <tbody>\n",
              "    <tr>\n",
              "      <th>12</th>\n",
              "      <td>(sweetheart ceramic trinket box)</td>\n",
              "      <td>(strawberry ceramic trinket box)</td>\n",
              "      <td>0.031598</td>\n",
              "      <td>0.782775</td>\n",
              "      <td>11.468298</td>\n",
              "    </tr>\n",
              "    <tr>\n",
              "      <th>10</th>\n",
              "      <td>(red hanging heart t-light holder)</td>\n",
              "      <td>(white hanging heart t-light holder)</td>\n",
              "      <td>0.030130</td>\n",
              "      <td>0.716912</td>\n",
              "      <td>5.444239</td>\n",
              "    </tr>\n",
              "    <tr>\n",
              "      <th>18</th>\n",
              "      <td>(wooden picture frame white finish)</td>\n",
              "      <td>(wooden frame antique white)</td>\n",
              "      <td>0.023524</td>\n",
              "      <td>0.635036</td>\n",
              "      <td>14.160056</td>\n",
              "    </tr>\n",
              "    <tr>\n",
              "      <th>7</th>\n",
              "      <td>(love building block word)</td>\n",
              "      <td>(home building block word)</td>\n",
              "      <td>0.022675</td>\n",
              "      <td>0.532185</td>\n",
              "      <td>10.273828</td>\n",
              "    </tr>\n",
              "    <tr>\n",
              "      <th>4</th>\n",
              "      <td>(heart of wicker small)</td>\n",
              "      <td>(heart of wicker large)</td>\n",
              "      <td>0.021323</td>\n",
              "      <td>0.531792</td>\n",
              "      <td>12.492767</td>\n",
              "    </tr>\n",
              "    <tr>\n",
              "      <th>19</th>\n",
              "      <td>(wooden frame antique white)</td>\n",
              "      <td>(wooden picture frame white finish)</td>\n",
              "      <td>0.023524</td>\n",
              "      <td>0.524548</td>\n",
              "      <td>14.160056</td>\n",
              "    </tr>\n",
              "    <tr>\n",
              "      <th>1</th>\n",
              "      <td>(pack of 60 pink paisley cake cases)</td>\n",
              "      <td>(60 teatime fairy cake cases)</td>\n",
              "      <td>0.022984</td>\n",
              "      <td>0.512931</td>\n",
              "      <td>9.894753</td>\n",
              "    </tr>\n",
              "    <tr>\n",
              "      <th>5</th>\n",
              "      <td>(heart of wicker large)</td>\n",
              "      <td>(heart of wicker small)</td>\n",
              "      <td>0.021323</td>\n",
              "      <td>0.500907</td>\n",
              "      <td>12.492767</td>\n",
              "    </tr>\n",
              "    <tr>\n",
              "      <th>13</th>\n",
              "      <td>(strawberry ceramic trinket box)</td>\n",
              "      <td>(sweetheart ceramic trinket box)</td>\n",
              "      <td>0.031598</td>\n",
              "      <td>0.462932</td>\n",
              "      <td>11.468298</td>\n",
              "    </tr>\n",
              "    <tr>\n",
              "      <th>16</th>\n",
              "      <td>(wooden frame antique white)</td>\n",
              "      <td>(white hanging heart t-light holder)</td>\n",
              "      <td>0.020666</td>\n",
              "      <td>0.460810</td>\n",
              "      <td>3.499396</td>\n",
              "    </tr>\n",
              "    <tr>\n",
              "      <th>9</th>\n",
              "      <td>(pack of 60 pink paisley cake cases)</td>\n",
              "      <td>(pack of 72 retro spot cake cases)</td>\n",
              "      <td>0.020627</td>\n",
              "      <td>0.460345</td>\n",
              "      <td>8.398454</td>\n",
              "    </tr>\n",
              "    <tr>\n",
              "      <th>2</th>\n",
              "      <td>(60 teatime fairy cake cases)</td>\n",
              "      <td>(pack of 72 retro spot cake cases)</td>\n",
              "      <td>0.023331</td>\n",
              "      <td>0.450075</td>\n",
              "      <td>8.211085</td>\n",
              "    </tr>\n",
              "    <tr>\n",
              "      <th>0</th>\n",
              "      <td>(60 teatime fairy cake cases)</td>\n",
              "      <td>(pack of 60 pink paisley cake cases)</td>\n",
              "      <td>0.022984</td>\n",
              "      <td>0.443368</td>\n",
              "      <td>9.894753</td>\n",
              "    </tr>\n",
              "    <tr>\n",
              "      <th>6</th>\n",
              "      <td>(home building block word)</td>\n",
              "      <td>(love building block word)</td>\n",
              "      <td>0.022675</td>\n",
              "      <td>0.437733</td>\n",
              "      <td>10.273828</td>\n",
              "    </tr>\n",
              "    <tr>\n",
              "      <th>3</th>\n",
              "      <td>(pack of 72 retro spot cake cases)</td>\n",
              "      <td>(60 teatime fairy cake cases)</td>\n",
              "      <td>0.023331</td>\n",
              "      <td>0.425652</td>\n",
              "      <td>8.211085</td>\n",
              "    </tr>\n",
              "  </tbody>\n",
              "</table>\n",
              "</div>"
            ],
            "text/plain": [
              "                             antecedents  \\\n",
              "12      (sweetheart ceramic trinket box)   \n",
              "10    (red hanging heart t-light holder)   \n",
              "18   (wooden picture frame white finish)   \n",
              "7             (love building block word)   \n",
              "4                (heart of wicker small)   \n",
              "19          (wooden frame antique white)   \n",
              "1   (pack of 60 pink paisley cake cases)   \n",
              "5                (heart of wicker large)   \n",
              "13      (strawberry ceramic trinket box)   \n",
              "16          (wooden frame antique white)   \n",
              "9   (pack of 60 pink paisley cake cases)   \n",
              "2          (60 teatime fairy cake cases)   \n",
              "0          (60 teatime fairy cake cases)   \n",
              "6             (home building block word)   \n",
              "3     (pack of 72 retro spot cake cases)   \n",
              "\n",
              "                             consequents   support  confidence       lift  \n",
              "12      (strawberry ceramic trinket box)  0.031598    0.782775  11.468298  \n",
              "10  (white hanging heart t-light holder)  0.030130    0.716912   5.444239  \n",
              "18          (wooden frame antique white)  0.023524    0.635036  14.160056  \n",
              "7             (home building block word)  0.022675    0.532185  10.273828  \n",
              "4                (heart of wicker large)  0.021323    0.531792  12.492767  \n",
              "19   (wooden picture frame white finish)  0.023524    0.524548  14.160056  \n",
              "1          (60 teatime fairy cake cases)  0.022984    0.512931   9.894753  \n",
              "5                (heart of wicker small)  0.021323    0.500907  12.492767  \n",
              "13      (sweetheart ceramic trinket box)  0.031598    0.462932  11.468298  \n",
              "16  (white hanging heart t-light holder)  0.020666    0.460810   3.499396  \n",
              "9     (pack of 72 retro spot cake cases)  0.020627    0.460345   8.398454  \n",
              "2     (pack of 72 retro spot cake cases)  0.023331    0.450075   8.211085  \n",
              "0   (pack of 60 pink paisley cake cases)  0.022984    0.443368   9.894753  \n",
              "6             (love building block word)  0.022675    0.437733  10.273828  \n",
              "3          (60 teatime fairy cake cases)  0.023331    0.425652   8.211085  "
            ]
          },
          "execution_count": 22,
          "metadata": {},
          "output_type": "execute_result"
        }
      ],
      "source": [
        "metric = \"lift\"\n",
        "min_threshold = 1\n",
        "\n",
        "rules = association_rules(frequent_items, metric=metric, min_threshold=min_threshold)[[\"antecedents\", \"consequents\", \"support\", \"confidence\", \"lift\"]]\n",
        "rules.sort_values('confidence', ascending=False, inplace=True)\n",
        "rules.head(15)"
      ]
    },
    {
      "cell_type": "markdown",
      "metadata": {
        "id": "xONUi0yeAUzJ"
      },
      "source": [
        "#VISUALISASI HASIL MODELING"
      ]
    },
    {
      "cell_type": "code",
      "execution_count": 23,
      "metadata": {
        "colab": {
          "base_uri": "https://localhost:8080/",
          "height": 1000
        },
        "id": "x_U67CGCAZAS",
        "outputId": "f59e638d-b4ed-443e-ce8b-2eb3375ce5ec"
      },
      "outputs": [
        {
          "name": "stderr",
          "output_type": "stream",
          "text": [
            "C:\\Users\\musya\\AppData\\Local\\Temp\\ipykernel_20008\\2393403336.py:6: UserWarning:\n",
            "\n",
            "Ignoring `palette` because no `hue` variable has been assigned.\n",
            "\n"
          ]
        },
        {
          "data": {
            "image/png": "[encoded data removed]",
            "text/plain": [
              "<Figure size 1000x600 with 1 Axes>"
            ]
          },
          "metadata": {},
          "output_type": "display_data"
        },
        {
          "name": "stderr",
          "output_type": "stream",
          "text": [
            "C:\\Users\\musya\\AppData\\Local\\Temp\\ipykernel_20008\\2393403336.py:14: UserWarning:\n",
            "\n",
            "Ignoring `palette` because no `hue` variable has been assigned.\n",
            "\n"
          ]
        },
        {
          "data": {
            "image/png": "[encoded data removed]",
            "text/plain": [
              "<Figure size 1000x600 with 1 Axes>"
            ]
          },
          "metadata": {},
          "output_type": "display_data"
        },
        {
          "name": "stderr",
          "output_type": "stream",
          "text": [
            "C:\\Users\\musya\\AppData\\Local\\Temp\\ipykernel_20008\\2393403336.py:22: UserWarning:\n",
            "\n",
            "Ignoring `palette` because no `hue` variable has been assigned.\n",
            "\n"
          ]
        },
        {
          "data": {
            "image/png": "[encoded data removed]",
            "text/plain": [
              "<Figure size 1000x600 with 1 Axes>"
            ]
          },
          "metadata": {},
          "output_type": "display_data"
        }
      ],
      "source": [
        "import seaborn as sns\n",
        "import matplotlib.pyplot as plt\n",
        "\n",
        "# Scatter plot of support vs. confidence\n",
        "plt.figure(figsize=(10, 6))\n",
        "sns.scatterplot(x=\"support\", y=\"confidence\", data=rules, size=\"lift\", sizes=(20, 200), palette=\"viridis\")\n",
        "plt.title(\"Support vs. Confidence with Lift as Size\")\n",
        "plt.xlabel(\"Support\")\n",
        "plt.ylabel(\"Confidence\")\n",
        "plt.show()\n",
        "\n",
        "# Scatter plot of support vs. lift\n",
        "plt.figure(figsize=(10, 6))\n",
        "sns.scatterplot(x=\"support\", y=\"lift\", data=rules, size=\"confidence\", sizes=(20, 200), palette=\"magma\")\n",
        "plt.title(\"Support vs. Lift with Confidence as Size\")\n",
        "plt.xlabel(\"Support\")\n",
        "plt.ylabel(\"Lift\")\n",
        "plt.show()\n",
        "\n",
        "# Scatter plot of confidence vs. lift\n",
        "plt.figure(figsize=(10, 6))\n",
        "sns.scatterplot(x=\"confidence\", y=\"lift\", data=rules, size=\"support\", sizes=(20, 200), palette=\"plasma\")\n",
        "plt.title(\"Confidence vs. Lift with Support as Size\")\n",
        "plt.xlabel(\"Confidence\")\n",
        "plt.ylabel(\"Lift\")\n",
        "plt.show()\n"
      ]
    },
    {
      "cell_type": "code",
      "execution_count": 24,
      "metadata": {
        "colab": {
          "base_uri": "https://localhost:8080/",
          "height": 1000
        },
        "id": "JXUTEcbOQC9K",
        "outputId": "599cef08-c676-448c-8ae6-eee26f9dbd5c"
      },
      "outputs": [
        {
          "data": {
            "image/png": "[encoded data removed]",
            "text/plain": [
              "<Figure size 1200x1200 with 1 Axes>"
            ]
          },
          "metadata": {},
          "output_type": "display_data"
        }
      ],
      "source": [
        "sns.set(style = \"whitegrid\")\n",
        "fig = plt.figure(figsize=(12, 12))\n",
        "ax = fig.add_subplot(projection = '3d')\n",
        "\n",
        "\n",
        "x = rules['support']\n",
        "y = rules['confidence']\n",
        "z = rules['lift']\n",
        "\n",
        "ax.set_xlabel(\"Support\")\n",
        "ax.set_ylabel(\"Confidence\")\n",
        "ax.set_zlabel(\"Lift\")\n",
        "\n",
        "ax.scatter(x, y, z)\n",
        "ax.set_title(\"3D Distribution of Association Rules\")\n",
        "\n",
        "plt.show()"
      ]
    },
    {
      "cell_type": "code",
      "execution_count": 29,
      "metadata": {},
      "outputs": [
        {
          "name": "stdout",
          "output_type": "stream",
          "text": [
            "<class 'pandas.core.frame.DataFrame'>\n",
            "RangeIndex: 525461 entries, 0 to 525460\n",
            "Data columns (total 2 columns):\n",
            " #   Column       Non-Null Count   Dtype \n",
            "---  ------       --------------   ----- \n",
            " 0   Invoice      525461 non-null  object\n",
            " 1   Description  522533 non-null  object\n",
            "dtypes: object(2)\n",
            "memory usage: 8.0+ MB\n"
          ]
        }
      ],
      "source": [
        "data.info()"
      ]
    }
  ],
  "metadata": {
    "colab": {
      "provenance": []
    },
    "kernelspec": {
      "display_name": "Python 3",
      "name": "python3"
    },
    "language_info": {
      "codemirror_mode": {
        "name": "ipython",
        "version": 3
      },
      "file_extension": ".py",
      "mimetype": "text/x-python",
      "name": "python",
      "nbconvert_exporter": "python",
      "pygments_lexer": "ipython3",
      "version": "3.10.7"
    }
  },
  "nbformat": 4,
  "nbformat_minor": 0
}
